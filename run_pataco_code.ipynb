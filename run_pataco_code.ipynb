{
 "cells": [
  {
   "cell_type": "code",
   "execution_count": 2,
   "metadata": {},
   "outputs": [],
   "source": [
    "import pandas as pd\n",
    "flights = pd.read_csv(\"cleaned_flights.csv\")\n",
    "\n",
    "from sklearn.model_selection import train_test_split\n",
    "y = flights['DELAYED']\n",
    "X = flights.drop(['DELAYED', 'ARRIVAL_DELAY'], axis=1)\n",
    "X_train, X_test, y_train, y_test = train_test_split(X, y, test_size=0.2, random_state=42)"
   ]
  },
  {
   "cell_type": "code",
   "execution_count": 3,
   "metadata": {},
   "outputs": [],
   "source": [
    "from sklearn.svm import SVC\n",
    "from sklearn.model_selection import RandomizedSearchCV\n",
    "from scipy.stats import uniform\n",
    "\n",
    "# Create an SVM classifier\n",
    "svm = SVC()\n",
    "\n",
    "# Define the parameter distributions for randomized search  \n",
    "param_distributions = {\n",
    "    'C': uniform(loc=0.1, scale=10),\n",
    "    'gamma': uniform(loc=0.1, scale=10)\n",
    "}\n",
    "\n",
    "# Perform randomized search with cross-validation\n",
    "randomized_search = RandomizedSearchCV(estimator=svm, param_distributions=param_distributions, n_iter=10, cv=5)\n",
    "randomized_search.fit(X_train, y_train)\n",
    "\n",
    "# Print the best parameters and best score\n",
    "print(\"Best Parameters: \", randomized_search.best_params_)\n",
    "print(\"Best Score: \", randomized_search.best_score_)"
   ]
  }
 ],
 "metadata": {
  "colab": {
   "provenance": []
  },
  "kernelspec": {
   "display_name": "Python 3 (ipykernel)",
   "language": "python",
   "name": "python3"
  },
  "language_info": {
   "codemirror_mode": {
    "name": "ipython",
    "version": 3
   },
   "file_extension": ".py",
   "mimetype": "text/x-python",
   "name": "python",
   "nbconvert_exporter": "python",
   "pygments_lexer": "ipython3",
   "version": "3.10.6"
  }
 },
 "nbformat": 4,
 "nbformat_minor": 1
}
