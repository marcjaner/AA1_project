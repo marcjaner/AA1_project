{
 "cells": [
  {
   "cell_type": "markdown",
   "metadata": {
    "id": "4X1a2rkiAgHQ"
   },
   "source": [
    "# **AA1 Project** \n",
    "\n",
    "## Modeling delays in the air\n",
    "\n",
    "In order to predict whether a flight is likely to be delayed or not, create a ML model that will make predictions with that aim. \n",
    "\n",
    "First of all. Let's observe our data set and some first insights. "
   ]
  },
  {
   "cell_type": "code",
   "execution_count": 4,
   "metadata": {
    "id": "9WFwwT0G--Vb"
   },
   "outputs": [],
   "source": [
    "import pandas as pd\n",
    "import numpy as np\n",
    "from sklearn.preprocessing import StandardScaler"
   ]
  },
  {
   "cell_type": "code",
   "execution_count": 5,
   "metadata": {
    "colab": {
     "base_uri": "https://localhost:8080/"
    },
    "id": "G4naEd9v_gWI",
    "outputId": "f9312b58-6257-40ee-aac4-dd514d576d82"
   },
   "outputs": [],
   "source": [
    "airports = pd.read_csv('airports.csv')"
   ]
  },
  {
   "cell_type": "code",
   "execution_count": 6,
   "metadata": {},
   "outputs": [
    {
     "name": "stderr",
     "output_type": "stream",
     "text": [
      "C:\\Users\\marcj\\AppData\\Local\\Temp\\ipykernel_28112\\2521083823.py:1: DtypeWarning: Columns (7,8) have mixed types. Specify dtype option on import or set low_memory=False.\n",
      "  flights = pd.read_csv('flights.csv')\n"
     ]
    }
   ],
   "source": [
    "flights = pd.read_csv('flights.csv')\n",
    "flights = flights.sample(frac=0.03, random_state=42)"
   ]
  },
  {
   "cell_type": "markdown",
   "metadata": {
    "id": "CsI8BfIVAdal"
   },
   "source": [
    "As we can se with the `describe` method, we can observe the range where each feature takes values at more or less. It is also interesting to observe the histograms of the different columns to see how each feature is distributed more or less, to get an intuition of our data. "
   ]
  },
  {
   "cell_type": "code",
   "execution_count": 7,
   "metadata": {
    "colab": {
     "base_uri": "https://localhost:8080/"
    },
    "id": "iPpTWsflkzBe",
    "outputId": "741153f1-1442-423e-8333-4d04c9bc220b"
   },
   "outputs": [
    {
     "name": "stdout",
     "output_type": "stream",
     "text": [
      "14400\n"
     ]
    }
   ],
   "source": [
    "count = 0\n",
    "for airport in flights[\"ORIGIN_AIRPORT\"]:\n",
    "    if str(airport).isnumeric():\n",
    "      count += 1\n",
    "print(count)"
   ]
  },
  {
   "cell_type": "code",
   "execution_count": 8,
   "metadata": {
    "colab": {
     "base_uri": "https://localhost:8080/",
     "height": 300
    },
    "id": "WMan5A-f_l5x",
    "outputId": "5e0b5489-d212-4929-cf12-18f77639fec4"
   },
   "outputs": [
    {
     "data": {
      "text/html": [
       "<div>\n",
       "<style scoped>\n",
       "    .dataframe tbody tr th:only-of-type {\n",
       "        vertical-align: middle;\n",
       "    }\n",
       "\n",
       "    .dataframe tbody tr th {\n",
       "        vertical-align: top;\n",
       "    }\n",
       "\n",
       "    .dataframe thead th {\n",
       "        text-align: right;\n",
       "    }\n",
       "</style>\n",
       "<table border=\"1\" class=\"dataframe\">\n",
       "  <thead>\n",
       "    <tr style=\"text-align: right;\">\n",
       "      <th></th>\n",
       "      <th>LATITUDE</th>\n",
       "      <th>LONGITUDE</th>\n",
       "    </tr>\n",
       "  </thead>\n",
       "  <tbody>\n",
       "    <tr>\n",
       "      <th>count</th>\n",
       "      <td>319.000000</td>\n",
       "      <td>319.000000</td>\n",
       "    </tr>\n",
       "    <tr>\n",
       "      <th>mean</th>\n",
       "      <td>38.981244</td>\n",
       "      <td>-98.378964</td>\n",
       "    </tr>\n",
       "    <tr>\n",
       "      <th>std</th>\n",
       "      <td>8.616736</td>\n",
       "      <td>21.523492</td>\n",
       "    </tr>\n",
       "    <tr>\n",
       "      <th>min</th>\n",
       "      <td>13.483450</td>\n",
       "      <td>-176.646030</td>\n",
       "    </tr>\n",
       "    <tr>\n",
       "      <th>25%</th>\n",
       "      <td>33.652040</td>\n",
       "      <td>-110.839385</td>\n",
       "    </tr>\n",
       "    <tr>\n",
       "      <th>50%</th>\n",
       "      <td>39.297610</td>\n",
       "      <td>-93.403070</td>\n",
       "    </tr>\n",
       "    <tr>\n",
       "      <th>75%</th>\n",
       "      <td>43.154675</td>\n",
       "      <td>-82.722995</td>\n",
       "    </tr>\n",
       "    <tr>\n",
       "      <th>max</th>\n",
       "      <td>71.285450</td>\n",
       "      <td>-64.798560</td>\n",
       "    </tr>\n",
       "  </tbody>\n",
       "</table>\n",
       "</div>"
      ],
      "text/plain": [
       "         LATITUDE   LONGITUDE\n",
       "count  319.000000  319.000000\n",
       "mean    38.981244  -98.378964\n",
       "std      8.616736   21.523492\n",
       "min     13.483450 -176.646030\n",
       "25%     33.652040 -110.839385\n",
       "50%     39.297610  -93.403070\n",
       "75%     43.154675  -82.722995\n",
       "max     71.285450  -64.798560"
      ]
     },
     "execution_count": 8,
     "metadata": {},
     "output_type": "execute_result"
    }
   ],
   "source": [
    "flights.describe()\n",
    "airports.describe()"
   ]
  },
  {
   "cell_type": "code",
   "execution_count": 9,
   "metadata": {},
   "outputs": [
    {
     "data": {
      "text/plain": [
       "array([[<Axes: title={'center': 'YEAR'}>,\n",
       "        <Axes: title={'center': 'MONTH'}>,\n",
       "        <Axes: title={'center': 'DAY'}>,\n",
       "        <Axes: title={'center': 'DAY_OF_WEEK'}>,\n",
       "        <Axes: title={'center': 'FLIGHT_NUMBER'}>],\n",
       "       [<Axes: title={'center': 'SCHEDULED_DEPARTURE'}>,\n",
       "        <Axes: title={'center': 'DEPARTURE_TIME'}>,\n",
       "        <Axes: title={'center': 'DEPARTURE_DELAY'}>,\n",
       "        <Axes: title={'center': 'TAXI_OUT'}>,\n",
       "        <Axes: title={'center': 'WHEELS_OFF'}>],\n",
       "       [<Axes: title={'center': 'SCHEDULED_TIME'}>,\n",
       "        <Axes: title={'center': 'ELAPSED_TIME'}>,\n",
       "        <Axes: title={'center': 'AIR_TIME'}>,\n",
       "        <Axes: title={'center': 'DISTANCE'}>,\n",
       "        <Axes: title={'center': 'WHEELS_ON'}>],\n",
       "       [<Axes: title={'center': 'TAXI_IN'}>,\n",
       "        <Axes: title={'center': 'SCHEDULED_ARRIVAL'}>,\n",
       "        <Axes: title={'center': 'ARRIVAL_TIME'}>,\n",
       "        <Axes: title={'center': 'ARRIVAL_DELAY'}>,\n",
       "        <Axes: title={'center': 'DIVERTED'}>],\n",
       "       [<Axes: title={'center': 'CANCELLED'}>,\n",
       "        <Axes: title={'center': 'AIR_SYSTEM_DELAY'}>,\n",
       "        <Axes: title={'center': 'SECURITY_DELAY'}>,\n",
       "        <Axes: title={'center': 'AIRLINE_DELAY'}>,\n",
       "        <Axes: title={'center': 'LATE_AIRCRAFT_DELAY'}>],\n",
       "       [<Axes: title={'center': 'WEATHER_DELAY'}>, <Axes: >, <Axes: >,\n",
       "        <Axes: >, <Axes: >]], dtype=object)"
      ]
     },
     "execution_count": 9,
     "metadata": {},
     "output_type": "execute_result"
    },
    {
     "data": {
      "image/png": "[encoded data removed]",
      "text/plain": [
       "<Figure size 640x480 with 30 Axes>"
      ]
     },
     "metadata": {},
     "output_type": "display_data"
    }
   ],
   "source": [
    "flights.hist()"
   ]
  },
  {
   "cell_type": "markdown",
   "metadata": {
    "id": "owSaZFCZ3-V2"
   },
   "source": [
    "## 1. Data cleaning\n",
    "### Nextly we will portray the schedule that we are going to follow. \n",
    "1. Check for duplicates: Check for and remove any duplicate rows in your dataset.\n",
    "\n",
    "2. Handle missing data: Identify any missing data and decide how to handle it. You can either remove the rows or fill in the missing data.\n",
    "\n",
    "3. Check for inconsistent data: Check for any inconsistent or erroneous data, such as values that are out of range or inconsistent with other data in the same row.\n",
    "\n",
    "4. Handle categorical data: If you have categorical data, decide how to handle it. One common approach is to use one-hot encoding.\n",
    "\n",
    "5. Normalize data: Normalize your data so that the features have similar ranges. This will prevent features with large ranges from dominating the model.\n",
    "\n",
    "6. Feature selection: Select the most relevant features for your model. You can use various techniques such as correlation analysis or principal component analysis (PCA).\n",
    "\n",
    "7. Train-test split: Finally, split your data into training and testing sets to evaluate the performance of your machine learning model."
   ]
  },
  {
   "cell_type": "markdown",
   "metadata": {
    "id": "H9qgdnb740x-"
   },
   "source": [
    "### 1.1 Check for duplicates\n",
    "We firstly see that there are no duplicate samples with the following piece of code.\n"
   ]
  },
  {
   "cell_type": "code",
   "execution_count": 10,
   "metadata": {
    "colab": {
     "base_uri": "https://localhost:8080/"
    },
    "id": "jSrzDv455MWf",
    "outputId": "ffa33860-4374-4db7-ea5a-98cca5564064"
   },
   "outputs": [
    {
     "data": {
      "text/plain": [
       "0"
      ]
     },
     "execution_count": 10,
     "metadata": {},
     "output_type": "execute_result"
    }
   ],
   "source": [
    "# Check for duplicates\n",
    "duplicates = flights.duplicated()\n",
    "\n",
    "# Print the duplicate rows\n",
    "len(flights[duplicates])"
   ]
  },
  {
   "cell_type": "markdown",
   "metadata": {
    "id": "XeODOfOB5pNx"
   },
   "source": [
    "###1.2 Handle missing data\n",
    "In this section we have a bunch of different possibilities in order to approach the problem of missing data. \n",
    "1. Remove missing data: if the quantity of missing data is not that significative, maybe it is a good option to consider removing all those samples that contain `NaN` values since the subset of samples that is going to be deleted may not be significant while training the model. \n",
    "\n"
   ]
  },
  {
   "cell_type": "code",
   "execution_count": 11,
   "metadata": {
    "colab": {
     "base_uri": "https://localhost:8080/"
    },
    "id": "6W0tqcTO6hYt",
    "outputId": "9afbcca0-8c45-4053-d09b-209047d794f2"
   },
   "outputs": [
    {
     "name": "stdout",
     "output_type": "stream",
     "text": [
      "YEAR                        0\n",
      "MONTH                       0\n",
      "DAY                         0\n",
      "DAY_OF_WEEK                 0\n",
      "AIRLINE                     0\n",
      "FLIGHT_NUMBER               0\n",
      "TAIL_NUMBER               419\n",
      "ORIGIN_AIRPORT              0\n",
      "DESTINATION_AIRPORT         0\n",
      "SCHEDULED_DEPARTURE         0\n",
      "DEPARTURE_TIME           2536\n",
      "DEPARTURE_DELAY          2536\n",
      "TAXI_OUT                 2624\n",
      "WHEELS_OFF               2624\n",
      "SCHEDULED_TIME              0\n",
      "ELAPSED_TIME             3080\n",
      "AIR_TIME                 3080\n",
      "DISTANCE                    0\n",
      "WHEELS_ON                2731\n",
      "TAXI_IN                  2731\n",
      "SCHEDULED_ARRIVAL           0\n",
      "ARRIVAL_TIME             2731\n",
      "ARRIVAL_DELAY            3080\n",
      "DIVERTED                    0\n",
      "CANCELLED                   0\n",
      "CANCELLATION_REASON    171920\n",
      "AIR_SYSTEM_DELAY       142686\n",
      "SECURITY_DELAY         142686\n",
      "AIRLINE_DELAY          142686\n",
      "LATE_AIRCRAFT_DELAY    142686\n",
      "WEATHER_DELAY          142686\n",
      "dtype: int64\n"
     ]
    }
   ],
   "source": [
    "# Count the number of NaN values in each column\n",
    "nan_counts = flights.isna().sum()\n",
    "# Print the results\n",
    "print(nan_counts)"
   ]
  },
  {
   "cell_type": "markdown",
   "metadata": {
    "id": "HwRj6Uih68dv"
   },
   "source": [
    "From the previous output we see that the last 6 features are almost useless since the majority of the samples do not have any information of those, therefore we are going to `drop`. A part from that, we also need to delete columns that regard information that is not going to be available (a posteriori information from the flight) such as information of the time elapsed during time"
   ]
  },
  {
   "cell_type": "code",
   "execution_count": 12,
   "metadata": {
    "id": "g28GIbss7vHi"
   },
   "outputs": [],
   "source": [
    "cols_of_interest = ['ARRIVAL_DELAY','MONTH', 'DAY' ,'DAY_OF_WEEK', 'AIRLINE', 'ORIGIN_AIRPORT', 'DESTINATION_AIRPORT', 'SCHEDULED_ARRIVAL', 'DEPARTURE_TIME', 'DEPARTURE_DELAY', 'TAXI_OUT', 'WHEELS_OFF', 'SCHEDULED_TIME', 'DISTANCE']\n",
    "flights = flights[cols_of_interest]"
   ]
  },
  {
   "cell_type": "code",
   "execution_count": 13,
   "metadata": {
    "colab": {
     "base_uri": "https://localhost:8080/",
     "height": 300
    },
    "id": "jczIDNTZOJpP",
    "outputId": "2b732e2a-8915-470d-c24e-922daa387018"
   },
   "outputs": [
    {
     "data": {
      "text/html": [
       "<div>\n",
       "<style scoped>\n",
       "    .dataframe tbody tr th:only-of-type {\n",
       "        vertical-align: middle;\n",
       "    }\n",
       "\n",
       "    .dataframe tbody tr th {\n",
       "        vertical-align: top;\n",
       "    }\n",
       "\n",
       "    .dataframe thead th {\n",
       "        text-align: right;\n",
       "    }\n",
       "</style>\n",
       "<table border=\"1\" class=\"dataframe\">\n",
       "  <thead>\n",
       "    <tr style=\"text-align: right;\">\n",
       "      <th></th>\n",
       "      <th>ARRIVAL_DELAY</th>\n",
       "      <th>MONTH</th>\n",
       "      <th>DAY</th>\n",
       "      <th>DAY_OF_WEEK</th>\n",
       "      <th>SCHEDULED_ARRIVAL</th>\n",
       "      <th>DEPARTURE_TIME</th>\n",
       "      <th>DEPARTURE_DELAY</th>\n",
       "      <th>TAXI_OUT</th>\n",
       "      <th>WHEELS_OFF</th>\n",
       "      <th>SCHEDULED_TIME</th>\n",
       "      <th>DISTANCE</th>\n",
       "    </tr>\n",
       "  </thead>\n",
       "  <tbody>\n",
       "    <tr>\n",
       "      <th>count</th>\n",
       "      <td>171492.000000</td>\n",
       "      <td>174572.000000</td>\n",
       "      <td>174572.000000</td>\n",
       "      <td>174572.000000</td>\n",
       "      <td>174572.000000</td>\n",
       "      <td>172036.000000</td>\n",
       "      <td>172036.000000</td>\n",
       "      <td>171948.000000</td>\n",
       "      <td>171948.000000</td>\n",
       "      <td>174572.000000</td>\n",
       "      <td>174572.000000</td>\n",
       "    </tr>\n",
       "    <tr>\n",
       "      <th>mean</th>\n",
       "      <td>4.429478</td>\n",
       "      <td>6.516675</td>\n",
       "      <td>15.712669</td>\n",
       "      <td>3.914070</td>\n",
       "      <td>1492.253380</td>\n",
       "      <td>1334.163460</td>\n",
       "      <td>9.395440</td>\n",
       "      <td>16.028549</td>\n",
       "      <td>1356.140758</td>\n",
       "      <td>141.771813</td>\n",
       "      <td>822.983205</td>\n",
       "    </tr>\n",
       "    <tr>\n",
       "      <th>std</th>\n",
       "      <td>39.640996</td>\n",
       "      <td>3.407085</td>\n",
       "      <td>8.779087</td>\n",
       "      <td>1.987525</td>\n",
       "      <td>507.999106</td>\n",
       "      <td>495.872777</td>\n",
       "      <td>37.408139</td>\n",
       "      <td>8.854021</td>\n",
       "      <td>497.426400</td>\n",
       "      <td>75.278670</td>\n",
       "      <td>607.810642</td>\n",
       "    </tr>\n",
       "    <tr>\n",
       "      <th>min</th>\n",
       "      <td>-71.000000</td>\n",
       "      <td>1.000000</td>\n",
       "      <td>1.000000</td>\n",
       "      <td>1.000000</td>\n",
       "      <td>1.000000</td>\n",
       "      <td>1.000000</td>\n",
       "      <td>-38.000000</td>\n",
       "      <td>1.000000</td>\n",
       "      <td>1.000000</td>\n",
       "      <td>18.000000</td>\n",
       "      <td>31.000000</td>\n",
       "    </tr>\n",
       "    <tr>\n",
       "      <th>25%</th>\n",
       "      <td>-13.000000</td>\n",
       "      <td>4.000000</td>\n",
       "      <td>8.000000</td>\n",
       "      <td>2.000000</td>\n",
       "      <td>1109.000000</td>\n",
       "      <td>920.000000</td>\n",
       "      <td>-5.000000</td>\n",
       "      <td>11.000000</td>\n",
       "      <td>934.000000</td>\n",
       "      <td>85.000000</td>\n",
       "      <td>373.000000</td>\n",
       "    </tr>\n",
       "    <tr>\n",
       "      <th>50%</th>\n",
       "      <td>-5.000000</td>\n",
       "      <td>7.000000</td>\n",
       "      <td>16.000000</td>\n",
       "      <td>4.000000</td>\n",
       "      <td>1519.000000</td>\n",
       "      <td>1329.000000</td>\n",
       "      <td>-2.000000</td>\n",
       "      <td>14.000000</td>\n",
       "      <td>1342.000000</td>\n",
       "      <td>123.000000</td>\n",
       "      <td>647.000000</td>\n",
       "    </tr>\n",
       "    <tr>\n",
       "      <th>75%</th>\n",
       "      <td>8.000000</td>\n",
       "      <td>9.000000</td>\n",
       "      <td>23.000000</td>\n",
       "      <td>6.000000</td>\n",
       "      <td>1917.000000</td>\n",
       "      <td>1739.000000</td>\n",
       "      <td>7.000000</td>\n",
       "      <td>19.000000</td>\n",
       "      <td>1753.000000</td>\n",
       "      <td>174.000000</td>\n",
       "      <td>1065.000000</td>\n",
       "    </tr>\n",
       "    <tr>\n",
       "      <th>max</th>\n",
       "      <td>1557.000000</td>\n",
       "      <td>12.000000</td>\n",
       "      <td>31.000000</td>\n",
       "      <td>7.000000</td>\n",
       "      <td>2359.000000</td>\n",
       "      <td>2400.000000</td>\n",
       "      <td>1576.000000</td>\n",
       "      <td>225.000000</td>\n",
       "      <td>2400.000000</td>\n",
       "      <td>680.000000</td>\n",
       "      <td>4983.000000</td>\n",
       "    </tr>\n",
       "  </tbody>\n",
       "</table>\n",
       "</div>"
      ],
      "text/plain": [
       "       ARRIVAL_DELAY          MONTH            DAY    DAY_OF_WEEK  \\\n",
       "count  171492.000000  174572.000000  174572.000000  174572.000000   \n",
       "mean        4.429478       6.516675      15.712669       3.914070   \n",
       "std        39.640996       3.407085       8.779087       1.987525   \n",
       "min       -71.000000       1.000000       1.000000       1.000000   \n",
       "25%       -13.000000       4.000000       8.000000       2.000000   \n",
       "50%        -5.000000       7.000000      16.000000       4.000000   \n",
       "75%         8.000000       9.000000      23.000000       6.000000   \n",
       "max      1557.000000      12.000000      31.000000       7.000000   \n",
       "\n",
       "       SCHEDULED_ARRIVAL  DEPARTURE_TIME  DEPARTURE_DELAY       TAXI_OUT  \\\n",
       "count      174572.000000   172036.000000    172036.000000  171948.000000   \n",
       "mean         1492.253380     1334.163460         9.395440      16.028549   \n",
       "std           507.999106      495.872777        37.408139       8.854021   \n",
       "min             1.000000        1.000000       -38.000000       1.000000   \n",
       "25%          1109.000000      920.000000        -5.000000      11.000000   \n",
       "50%          1519.000000     1329.000000        -2.000000      14.000000   \n",
       "75%          1917.000000     1739.000000         7.000000      19.000000   \n",
       "max          2359.000000     2400.000000      1576.000000     225.000000   \n",
       "\n",
       "          WHEELS_OFF  SCHEDULED_TIME       DISTANCE  \n",
       "count  171948.000000   174572.000000  174572.000000  \n",
       "mean     1356.140758      141.771813     822.983205  \n",
       "std       497.426400       75.278670     607.810642  \n",
       "min         1.000000       18.000000      31.000000  \n",
       "25%       934.000000       85.000000     373.000000  \n",
       "50%      1342.000000      123.000000     647.000000  \n",
       "75%      1753.000000      174.000000    1065.000000  \n",
       "max      2400.000000      680.000000    4983.000000  "
      ]
     },
     "execution_count": 13,
     "metadata": {},
     "output_type": "execute_result"
    }
   ],
   "source": [
    "flights.describe()"
   ]
  },
  {
   "cell_type": "markdown",
   "metadata": {
    "id": "jV9TeZHT83xS"
   },
   "source": [
    "Once we've deleted those columns we can say that **maybe** and only **maybe** taking into account that we have more than 5M samples, deleting the other samples that contain at least one `NaN` value, may be reasonable. \n",
    "\n",
    "**CHECK WHETHER THIS IS REASONABLE**"
   ]
  },
  {
   "cell_type": "code",
   "execution_count": 55,
   "metadata": {
    "colab": {
     "base_uri": "https://localhost:8080/"
    },
    "id": "e82megy49YCh",
    "outputId": "c945bf9d-9c1f-4cd4-ad6b-2a5638b92934"
   },
   "outputs": [
    {
     "name": "stdout",
     "output_type": "stream",
     "text": [
      "156940 156940\n",
      "             DELAYED  DEPARTURE_DELAY       TAXI_OUT     WHEELS_OFF  \\\n",
      "count  156940.000000    156940.000000  156940.000000  156940.000000   \n",
      "mean        0.372149         0.006568      -0.011746      -0.002820   \n",
      "std         0.483379         0.989761       0.993558       1.007790   \n",
      "min         0.000000        -5.199338      -5.199338      -5.199338   \n",
      "25%         0.000000        -0.731217      -0.619855      -0.670522   \n",
      "50%         0.000000         0.088734       0.012660      -0.003453   \n",
      "75%         1.000000         0.698526       0.698526       0.668425   \n",
      "max         1.000000         5.199338       5.199338       5.199338   \n",
      "\n",
      "       SCHEDULED_TIME       DISTANCE       Q_YEAR_1       Q_YEAR_2  \\\n",
      "count   156940.000000  156940.000000  156940.000000  156940.000000   \n",
      "mean         0.004988      -0.003624       0.352115       0.380432   \n",
      "std          0.995214       0.989638       0.477631       0.485495   \n",
      "min         -5.199338      -5.199338       0.000000       0.000000   \n",
      "25%         -0.666564      -0.698526       0.000000       0.000000   \n",
      "50%          0.012660      -0.012660       0.000000       0.000000   \n",
      "75%          0.687794       0.664984       1.000000       1.000000   \n",
      "max          5.199338       5.199338       1.000000       1.000000   \n",
      "\n",
      "            Q_YEAR_3    FORTNIGHT_1  ...  GR_O_UPPER_LEFT  GR_O_UPPER_RIGHT  \\\n",
      "count  156940.000000  156940.000000  ...    156940.000000     156940.000000   \n",
      "mean        0.267453       0.493654  ...         0.161457          0.338626   \n",
      "std         0.442632       0.499961  ...         0.367953          0.473244   \n",
      "min         0.000000       0.000000  ...         0.000000          0.000000   \n",
      "25%         0.000000       0.000000  ...         0.000000          0.000000   \n",
      "50%         0.000000       0.000000  ...         0.000000          0.000000   \n",
      "75%         1.000000       1.000000  ...         0.000000          1.000000   \n",
      "max         1.000000       1.000000  ...         1.000000          1.000000   \n",
      "\n",
      "       GR_D_BOTTOM_LEFT  GR_D_BOTTOM_RIGHT  GR_D_UPPER_LEFT  GR_D_UPPER_RIGHT  \\\n",
      "count     156940.000000      156940.000000    156940.000000     156940.000000   \n",
      "mean           0.156487           0.342449         0.163177          0.337887   \n",
      "std            0.363317           0.474531         0.369528          0.472991   \n",
      "min            0.000000           0.000000         0.000000          0.000000   \n",
      "25%            0.000000           0.000000         0.000000          0.000000   \n",
      "50%            0.000000           0.000000         0.000000          0.000000   \n",
      "75%            0.000000           1.000000         0.000000          1.000000   \n",
      "max            1.000000           1.000000         1.000000          1.000000   \n",
      "\n",
      "       ArrivalDayNight_Daytime  ArrivalDayNight_Nighttime  \\\n",
      "count            156940.000000              156940.000000   \n",
      "mean                  0.642851                   0.357149   \n",
      "std                   0.479161                   0.479161   \n",
      "min                   0.000000                   0.000000   \n",
      "25%                   0.000000                   0.000000   \n",
      "50%                   1.000000                   0.000000   \n",
      "75%                   1.000000                   1.000000   \n",
      "max                   1.000000                   1.000000   \n",
      "\n",
      "       DepartureDayNight_Daytime  DepartureDayNight_Nighttime  \n",
      "count              156940.000000                156940.000000  \n",
      "mean                    0.728928                     0.271072  \n",
      "std                     0.444514                     0.444514  \n",
      "min                     0.000000                     0.000000  \n",
      "25%                     0.000000                     0.000000  \n",
      "50%                     1.000000                     0.000000  \n",
      "75%                     1.000000                     1.000000  \n",
      "max                     1.000000                     1.000000  \n",
      "\n",
      "[8 rows x 28 columns]\n"
     ]
    }
   ],
   "source": [
    "l_bef = len(flights)\n",
    "flights = flights.dropna(how='any')\n",
    "l_aft = len(flights)\n",
    "print(l_bef, l_aft)\n",
    "\n",
    "print(flights.describe())"
   ]
  },
  {
   "cell_type": "markdown",
   "metadata": {
    "id": "FZ0KSQzZ-D3g"
   },
   "source": [
    "We pass from $5819079$ to $5714008$ samples. In other words, we keep the $98.2\\%$ of the samples, so it may be a good option to work with these new subset of samples that still contain a vast quantity of information.   "
   ]
  },
  {
   "cell_type": "markdown",
   "metadata": {
    "id": "9LO35Qxc-pB3"
   },
   "source": [
    "### 1.3 Check for inconsistent data\n",
    "In order to do so, we firstly observe an overview of our data. \n"
   ]
  },
  {
   "cell_type": "code",
   "execution_count": 15,
   "metadata": {
    "colab": {
     "base_uri": "https://localhost:8080/",
     "height": 300
    },
    "id": "c3TuA6Cx_x5G",
    "outputId": "8b9139e8-da40-4805-efdf-01dec510440f"
   },
   "outputs": [
    {
     "data": {
      "text/html": [
       "<div>\n",
       "<style scoped>\n",
       "    .dataframe tbody tr th:only-of-type {\n",
       "        vertical-align: middle;\n",
       "    }\n",
       "\n",
       "    .dataframe tbody tr th {\n",
       "        vertical-align: top;\n",
       "    }\n",
       "\n",
       "    .dataframe thead th {\n",
       "        text-align: right;\n",
       "    }\n",
       "</style>\n",
       "<table border=\"1\" class=\"dataframe\">\n",
       "  <thead>\n",
       "    <tr style=\"text-align: right;\">\n",
       "      <th></th>\n",
       "      <th>ARRIVAL_DELAY</th>\n",
       "      <th>MONTH</th>\n",
       "      <th>DAY</th>\n",
       "      <th>DAY_OF_WEEK</th>\n",
       "      <th>SCHEDULED_ARRIVAL</th>\n",
       "      <th>DEPARTURE_TIME</th>\n",
       "      <th>DEPARTURE_DELAY</th>\n",
       "      <th>TAXI_OUT</th>\n",
       "      <th>WHEELS_OFF</th>\n",
       "      <th>SCHEDULED_TIME</th>\n",
       "      <th>DISTANCE</th>\n",
       "    </tr>\n",
       "  </thead>\n",
       "  <tbody>\n",
       "    <tr>\n",
       "      <th>count</th>\n",
       "      <td>171492.000000</td>\n",
       "      <td>171492.000000</td>\n",
       "      <td>171492.000000</td>\n",
       "      <td>171492.000000</td>\n",
       "      <td>171492.000000</td>\n",
       "      <td>171492.000000</td>\n",
       "      <td>171492.000000</td>\n",
       "      <td>171492.000000</td>\n",
       "      <td>171492.000000</td>\n",
       "      <td>171492.000000</td>\n",
       "      <td>171492.000000</td>\n",
       "    </tr>\n",
       "    <tr>\n",
       "      <th>mean</th>\n",
       "      <td>4.429478</td>\n",
       "      <td>6.539804</td>\n",
       "      <td>15.711526</td>\n",
       "      <td>3.919757</td>\n",
       "      <td>1491.471270</td>\n",
       "      <td>1334.140706</td>\n",
       "      <td>9.344284</td>\n",
       "      <td>16.024229</td>\n",
       "      <td>1356.186440</td>\n",
       "      <td>141.977136</td>\n",
       "      <td>825.122933</td>\n",
       "    </tr>\n",
       "    <tr>\n",
       "      <th>std</th>\n",
       "      <td>39.640996</td>\n",
       "      <td>3.399039</td>\n",
       "      <td>8.770848</td>\n",
       "      <td>1.984597</td>\n",
       "      <td>507.853364</td>\n",
       "      <td>495.869672</td>\n",
       "      <td>37.323754</td>\n",
       "      <td>8.846293</td>\n",
       "      <td>497.416444</td>\n",
       "      <td>75.387740</td>\n",
       "      <td>608.792413</td>\n",
       "    </tr>\n",
       "    <tr>\n",
       "      <th>min</th>\n",
       "      <td>-71.000000</td>\n",
       "      <td>1.000000</td>\n",
       "      <td>1.000000</td>\n",
       "      <td>1.000000</td>\n",
       "      <td>1.000000</td>\n",
       "      <td>1.000000</td>\n",
       "      <td>-38.000000</td>\n",
       "      <td>1.000000</td>\n",
       "      <td>1.000000</td>\n",
       "      <td>18.000000</td>\n",
       "      <td>31.000000</td>\n",
       "    </tr>\n",
       "    <tr>\n",
       "      <th>25%</th>\n",
       "      <td>-13.000000</td>\n",
       "      <td>4.000000</td>\n",
       "      <td>8.000000</td>\n",
       "      <td>2.000000</td>\n",
       "      <td>1109.000000</td>\n",
       "      <td>920.000000</td>\n",
       "      <td>-5.000000</td>\n",
       "      <td>11.000000</td>\n",
       "      <td>934.750000</td>\n",
       "      <td>86.000000</td>\n",
       "      <td>373.000000</td>\n",
       "    </tr>\n",
       "    <tr>\n",
       "      <th>50%</th>\n",
       "      <td>-5.000000</td>\n",
       "      <td>7.000000</td>\n",
       "      <td>16.000000</td>\n",
       "      <td>4.000000</td>\n",
       "      <td>1518.000000</td>\n",
       "      <td>1329.000000</td>\n",
       "      <td>-2.000000</td>\n",
       "      <td>14.000000</td>\n",
       "      <td>1342.000000</td>\n",
       "      <td>123.000000</td>\n",
       "      <td>649.000000</td>\n",
       "    </tr>\n",
       "    <tr>\n",
       "      <th>75%</th>\n",
       "      <td>8.000000</td>\n",
       "      <td>9.000000</td>\n",
       "      <td>23.000000</td>\n",
       "      <td>6.000000</td>\n",
       "      <td>1916.000000</td>\n",
       "      <td>1739.000000</td>\n",
       "      <td>7.000000</td>\n",
       "      <td>19.000000</td>\n",
       "      <td>1753.000000</td>\n",
       "      <td>174.000000</td>\n",
       "      <td>1067.000000</td>\n",
       "    </tr>\n",
       "    <tr>\n",
       "      <th>max</th>\n",
       "      <td>1557.000000</td>\n",
       "      <td>12.000000</td>\n",
       "      <td>31.000000</td>\n",
       "      <td>7.000000</td>\n",
       "      <td>2359.000000</td>\n",
       "      <td>2400.000000</td>\n",
       "      <td>1576.000000</td>\n",
       "      <td>225.000000</td>\n",
       "      <td>2400.000000</td>\n",
       "      <td>680.000000</td>\n",
       "      <td>4983.000000</td>\n",
       "    </tr>\n",
       "  </tbody>\n",
       "</table>\n",
       "</div>"
      ],
      "text/plain": [
       "       ARRIVAL_DELAY          MONTH            DAY    DAY_OF_WEEK  \\\n",
       "count  171492.000000  171492.000000  171492.000000  171492.000000   \n",
       "mean        4.429478       6.539804      15.711526       3.919757   \n",
       "std        39.640996       3.399039       8.770848       1.984597   \n",
       "min       -71.000000       1.000000       1.000000       1.000000   \n",
       "25%       -13.000000       4.000000       8.000000       2.000000   \n",
       "50%        -5.000000       7.000000      16.000000       4.000000   \n",
       "75%         8.000000       9.000000      23.000000       6.000000   \n",
       "max      1557.000000      12.000000      31.000000       7.000000   \n",
       "\n",
       "       SCHEDULED_ARRIVAL  DEPARTURE_TIME  DEPARTURE_DELAY       TAXI_OUT  \\\n",
       "count      171492.000000   171492.000000    171492.000000  171492.000000   \n",
       "mean         1491.471270     1334.140706         9.344284      16.024229   \n",
       "std           507.853364      495.869672        37.323754       8.846293   \n",
       "min             1.000000        1.000000       -38.000000       1.000000   \n",
       "25%          1109.000000      920.000000        -5.000000      11.000000   \n",
       "50%          1518.000000     1329.000000        -2.000000      14.000000   \n",
       "75%          1916.000000     1739.000000         7.000000      19.000000   \n",
       "max          2359.000000     2400.000000      1576.000000     225.000000   \n",
       "\n",
       "          WHEELS_OFF  SCHEDULED_TIME       DISTANCE  \n",
       "count  171492.000000   171492.000000  171492.000000  \n",
       "mean     1356.186440      141.977136     825.122933  \n",
       "std       497.416444       75.387740     608.792413  \n",
       "min         1.000000       18.000000      31.000000  \n",
       "25%       934.750000       86.000000     373.000000  \n",
       "50%      1342.000000      123.000000     649.000000  \n",
       "75%      1753.000000      174.000000    1067.000000  \n",
       "max      2400.000000      680.000000    4983.000000  "
      ]
     },
     "execution_count": 15,
     "metadata": {},
     "output_type": "execute_result"
    }
   ],
   "source": [
    "flights.describe()\n"
   ]
  },
  {
   "cell_type": "code",
   "execution_count": 16,
   "metadata": {
    "colab": {
     "base_uri": "https://localhost:8080/"
    },
    "id": "lWIhprxNkiCK",
    "outputId": "43978d06-cd15-4dda-b194-33eb6e73d502"
   },
   "outputs": [
    {
     "name": "stdout",
     "output_type": "stream",
     "text": [
      "['DTW' 'SEA' 'DAL' 'HNL' 'ATL' 'TPA' 'PHX' 'LAX' 11292 'BWI' 'SJU' 'SMF'\n",
      " 'BNA' 'CLT' 'CAE' 'MSP' 'DFW' 'SAN' 'OGG' 'OAK' 14107 'DCA' 'BOS' 'HRL'\n",
      " 'MCI' 'SNA' 'ORD' 'MIA' 'RNO' 12451 'SFO' 'SAT' 'IAH' 'SLC' 'LAS' 'DEN'\n",
      " 'PIT' 'ACV' 'DRO' 'GSP' 'RSW' 'ITO' 12266 'LSE' 'OKC' 'DAY' 'EWR' 10299\n",
      " 'PHL' 'HOU' 11298 'MFE' 'FLL' 'MSY' 'IND' 'BZN' 'PSP' 'ASE' 'MEM' 'RDU'\n",
      " 'SBA' 15016 'SJC' 11066 'JAC' 'MCO' 'ROC' 11697 'BOI' 'CLE' 13830 10257\n",
      " 14908 'SDF' 12278 'MKE' 'JFK' 12889 10397 'RDM' 13851 'BRW' 'ALB' 'OMA'\n",
      " 'CRP' 'RIC' 'DHN' 11618 'BUR' 'CVG' 'MDW' 14893 'JAX' 13485 'ABQ' 12402\n",
      " 'CMH' 12264 10721 'PVD' 11433 'KTN' 10154 'LGA' 'PDX' 'LRD' 'SYR' 'PBI'\n",
      " 'ANC' 'BUF' 'RST' 'TUL' 'TUS' 'STL' 'TLH' 'BDL' 'AUS' 'MSN' 11278 13204\n",
      " 14771 'CHS' '13232' 'DSM' '12478' 14869 'AMA' 'LGB' 'GRR' 'IAD' 10874\n",
      " 'ONT' 'LIH' 'PIB' 15370 10980 13303 'GSO' 'MYR' 12478 11057 'BIS' 13930\n",
      " 'CDV' 14679 10713 'MOB' 14576 'KOA' 'TRI' 'CHO' 14843 'LEX' 11447 'MGM'\n",
      " 15919 14057 'ELP' 'IDA' 'MVY' 'EWN' 13487 10140 'COS' 11259 'ISP' 13495\n",
      " 13232 'CLL' '12391' 'LAN' 'SIT' 'SGF' 'EYW' 'ECP' 14524 15304 10792 'MHT'\n",
      " 'HPN' 12892 'LNK' 'MAF' 'FAR' 'ACT' 'PHF' '12953' 'AVL' 'ATW' 14635 'PNS'\n",
      " 13342 'CIU' 'TYR' 12953 'FCA' 13158 'DLH' 15024 'MLU' 14100 'CMI' 'EUG'\n",
      " 'CRW' 10423 12945 'GFK' 'CID' 'AZO' 'MHK' 'GRK' 10693 'LBB' 11630 'LIT'\n",
      " 'VPS' 'FAI' '11298' 12191 12173 14122 'COU' 'SRQ' 'SHV' 'BFL' '13891'\n",
      " 'BTR' 'SPS' 'MDT' 10821 'ORF' 'FNT' 'JAN' 'JMS' 'AEX' 'JNU' 16218 'BGM'\n",
      " 'MLI' '14986' 'FSD' 11042 'HDN' 'AVP' 'ICT' 11274 14831 'FAY' 'SBN' 'STT'\n",
      " 'EKO' 'ABR' 'SAV' '11042' 'BHM' 14027 14633 11884 'CAK' 'EGE' 'SUX' 13871\n",
      " 'GPT' 'ACK' 'PIA' 'YUM' '14107' 'AGS' 'GGG' 'GTF' 12896 'ILM' 'LAW' 14783\n",
      " 'BTV' 'LWS' 'MRY' 14747 '13851' 10529 'AKN' '14674' 'XNA' 12758 'ELM'\n",
      " 11140 14193 'FLG' 14683 14828 'VLD' 'GRB' 11775 'BIL' 'TTN' 'TWF' '12266'\n",
      " 'OTH' 'OAJ' 'FAT' 'GTR' 'GEG' 'ROA' 11537 10781 '12889' 'TYS' 11193\n",
      " '12892' 'EVV' 10994 13198 'SWF' 11481 'HSV' 12884 'PWM' 10158 'FWA' 'DIK'\n",
      " 'SGU' 12898 '10397' 'BQN' '10721' 'JLN' 'SBP' 'PLN' 11995 11097 'ABI'\n",
      " '13930' 'BTM' 11540 12217 12339 'MBS' 11637 '14831' 15376 '13244' 'BPT'\n",
      " 'BLI' 'GJT' 14492 'BRD' 'CHA' 14321 11267 'BMI' 12389 'HIB' 12992 'HLN'\n",
      " '14783' 13377 'MLB' 'BET' 'ISN' 'DBQ' 'GUC' 'TOL' 11638 '13487' '10821'\n",
      " 12448 'STC' '14747' 'ABE' 10561 11823 'VEL' 'SAF' 14730 'RAP' 11977 'LAR'\n",
      " 13296 'PBG' 'LFT' 10208 10800 'TVC' 14570 '10785' '13830' 11778 '11865'\n",
      " '13495' 14689 11315 13577 'CWA' 'APN' 13931 13244 'ACY' 15041 'FSM' 'INL'\n",
      " '11292' 12343 '15304' 'BRO' 'HYS' 'MOT' 14487 'ROW' 'GRI' 'SJT' 10685\n",
      " 12951 'OME' 'BGR' 'WYS' 12954 'CEC' 'PSC' 'PIH' 11986 15412 10747 '15016'\n",
      " 15249 'SPI' 'CPR' 10185 'MFR' 'COD' 'SUN' 14307 'DAB' 11982 13476 13891\n",
      " 'IAG' 'BJI' 'WRG' 'MEI' 'GUM' 11111 'ABY' 13433 13796 11973 '10792' 'PUB'\n",
      " 'LCH' '14771' 'GNV' 'MTJ' 11624 'TXK' 'GCK' 'GCC' 'PAH' 'CSG' '15376'\n",
      " 'RHI' 'IMT' 14489 10434 'PSE' '14307' 'HOB' '10279' 'MSO' '12191' 13029\n",
      " 'YAK' '10713' 11413 12197 '11433' 15411 'SCE' 10157 'BQK' '11618' 'CDC'\n",
      " 15096 '10431' 11109 15323 13061 11617 'ERI' 13422 'ORH' 14709 'CNY' 'LBE'\n",
      " 13264 '12197' '14524' 14952 'RDD' 10849 'SCC' 'ESC' '14869' 14574 11308\n",
      " 10135 '13303' 'STX' '10779' 12323 'DVL' 11423 14108 14588 10431 '11697'\n",
      " 14814 '14262' '11057' 14696 11603 '10257' 10627 10599 14006 'MQT' 11049\n",
      " '11540' '14893' '14635' 11203 10268 'SMX' '12339' 'EAU' 'CLD' '11111'\n",
      " 11612 11003 '14905' 14262 'PSG' 11471 '10693' 13344 12982 '14492' '11259'\n",
      " '11413' 'OTZ' 11996 '11066' 15624 15380 'DLG' '11337' 11252 '11278' 10990\n",
      " 11146 'RKS' 'ADQ' '13204' 13256 '15024' 14698 12156 '14679' '10800' 11721\n",
      " '14570' 10868 14685 '12451' 'MKG' 14457 10146 14794 '14057' '11648' 13184\n",
      " 10170 'PPG' 14252 '12129' '12173' 12206 10469 '14489' 13873 '14683' 10785\n",
      " 'ALO' 10333 14986 '12982' '14730' 'UST' 11067 '13796' 15070 10577 13933\n",
      " 10136 '14908' 10581 12280 13277 15295 14842 11865 '14100' 13230 '14709'\n",
      " 12129 '10135' 15048 12391 'ILG' 10155 '11637' 12819 '14027' 12523 11641\n",
      " '10299' '14098' '12758' 13290 '11423' 'CMX' 15841 '12523' '14843' 14150\n",
      " '10781' 14109 11337 '11603' 12003 '12954' 15389 '12389' '10868' '13367'\n",
      " '11982' 12255 11076 '11203' '10529' 12891 '10140' 14113 12016 'ITH' 12094\n",
      " '13198' 15607 14905 13964 '11150' '12992' '14321' 14520 '12264' '13230'\n",
      " 11921 11150 '15370' 14960 '14814' 12915 10918 'GST' '15249' 10732 '10874'\n",
      " '11996' 10620 '10685' '13486' '10423' 12519 13970 15991 10279 '14574'\n",
      " 10739 11953 '12441' '10754' 10728 14711 13241 '11884' '10136' 13076 12511\n",
      " '10561' 11695 '15070' '13577' 'MMH' 11122 '12278' '14828' 14674 '14487'\n",
      " '12217' 15497 '11193' 12441 15356 14543 11587 '10994' '15096' 13367\n",
      " '15919' 15027 14098 '11638' 11648 10141 '12945' '11986' 10926 15401\n",
      " '11977' '13342' 11905 '14633' '10208' '14122' 14256 11980 11013 '12898'\n",
      " '12323' '11630' '14457' '10620' 12888 10372 '13029' 12007 '11721' 11525\n",
      " '14520' 13795 11867 '12448' 13360 '13296' 13486 '11641' '15624' 10731]\n"
     ]
    }
   ],
   "source": [
    "print(flights[\"DESTINATION_AIRPORT\"].unique())"
   ]
  },
  {
   "cell_type": "code",
   "execution_count": 17,
   "metadata": {},
   "outputs": [
    {
     "data": {
      "text/html": [
       "<div>\n",
       "<style scoped>\n",
       "    .dataframe tbody tr th:only-of-type {\n",
       "        vertical-align: middle;\n",
       "    }\n",
       "\n",
       "    .dataframe tbody tr th {\n",
       "        vertical-align: top;\n",
       "    }\n",
       "\n",
       "    .dataframe thead th {\n",
       "        text-align: right;\n",
       "    }\n",
       "</style>\n",
       "<table border=\"1\" class=\"dataframe\">\n",
       "  <thead>\n",
       "    <tr style=\"text-align: right;\">\n",
       "      <th></th>\n",
       "      <th>ARRIVAL_DELAY</th>\n",
       "      <th>MONTH</th>\n",
       "      <th>DAY</th>\n",
       "      <th>DAY_OF_WEEK</th>\n",
       "      <th>SCHEDULED_ARRIVAL</th>\n",
       "      <th>DEPARTURE_TIME</th>\n",
       "      <th>DEPARTURE_DELAY</th>\n",
       "      <th>TAXI_OUT</th>\n",
       "      <th>WHEELS_OFF</th>\n",
       "      <th>SCHEDULED_TIME</th>\n",
       "      <th>DISTANCE</th>\n",
       "    </tr>\n",
       "  </thead>\n",
       "  <tbody>\n",
       "    <tr>\n",
       "      <th>count</th>\n",
       "      <td>171492.000000</td>\n",
       "      <td>171492.000000</td>\n",
       "      <td>171492.000000</td>\n",
       "      <td>171492.000000</td>\n",
       "      <td>171492.000000</td>\n",
       "      <td>171492.000000</td>\n",
       "      <td>171492.000000</td>\n",
       "      <td>171492.000000</td>\n",
       "      <td>171492.000000</td>\n",
       "      <td>171492.000000</td>\n",
       "      <td>171492.000000</td>\n",
       "    </tr>\n",
       "    <tr>\n",
       "      <th>mean</th>\n",
       "      <td>4.429478</td>\n",
       "      <td>6.539804</td>\n",
       "      <td>15.711526</td>\n",
       "      <td>3.919757</td>\n",
       "      <td>1491.471270</td>\n",
       "      <td>1334.137359</td>\n",
       "      <td>9.344284</td>\n",
       "      <td>16.024229</td>\n",
       "      <td>1356.183571</td>\n",
       "      <td>141.977136</td>\n",
       "      <td>825.122933</td>\n",
       "    </tr>\n",
       "    <tr>\n",
       "      <th>std</th>\n",
       "      <td>39.640996</td>\n",
       "      <td>3.399039</td>\n",
       "      <td>8.770848</td>\n",
       "      <td>1.984597</td>\n",
       "      <td>507.853364</td>\n",
       "      <td>495.862616</td>\n",
       "      <td>37.323754</td>\n",
       "      <td>8.846293</td>\n",
       "      <td>497.410542</td>\n",
       "      <td>75.387740</td>\n",
       "      <td>608.792413</td>\n",
       "    </tr>\n",
       "    <tr>\n",
       "      <th>min</th>\n",
       "      <td>-71.000000</td>\n",
       "      <td>1.000000</td>\n",
       "      <td>1.000000</td>\n",
       "      <td>1.000000</td>\n",
       "      <td>1.000000</td>\n",
       "      <td>1.000000</td>\n",
       "      <td>-38.000000</td>\n",
       "      <td>1.000000</td>\n",
       "      <td>1.000000</td>\n",
       "      <td>18.000000</td>\n",
       "      <td>31.000000</td>\n",
       "    </tr>\n",
       "    <tr>\n",
       "      <th>25%</th>\n",
       "      <td>-13.000000</td>\n",
       "      <td>4.000000</td>\n",
       "      <td>8.000000</td>\n",
       "      <td>2.000000</td>\n",
       "      <td>1109.000000</td>\n",
       "      <td>920.000000</td>\n",
       "      <td>-5.000000</td>\n",
       "      <td>11.000000</td>\n",
       "      <td>934.750000</td>\n",
       "      <td>86.000000</td>\n",
       "      <td>373.000000</td>\n",
       "    </tr>\n",
       "    <tr>\n",
       "      <th>50%</th>\n",
       "      <td>-5.000000</td>\n",
       "      <td>7.000000</td>\n",
       "      <td>16.000000</td>\n",
       "      <td>4.000000</td>\n",
       "      <td>1518.000000</td>\n",
       "      <td>1329.000000</td>\n",
       "      <td>-2.000000</td>\n",
       "      <td>14.000000</td>\n",
       "      <td>1342.000000</td>\n",
       "      <td>123.000000</td>\n",
       "      <td>649.000000</td>\n",
       "    </tr>\n",
       "    <tr>\n",
       "      <th>75%</th>\n",
       "      <td>8.000000</td>\n",
       "      <td>9.000000</td>\n",
       "      <td>23.000000</td>\n",
       "      <td>6.000000</td>\n",
       "      <td>1916.000000</td>\n",
       "      <td>1739.000000</td>\n",
       "      <td>7.000000</td>\n",
       "      <td>19.000000</td>\n",
       "      <td>1753.000000</td>\n",
       "      <td>174.000000</td>\n",
       "      <td>1067.000000</td>\n",
       "    </tr>\n",
       "    <tr>\n",
       "      <th>max</th>\n",
       "      <td>1557.000000</td>\n",
       "      <td>12.000000</td>\n",
       "      <td>31.000000</td>\n",
       "      <td>7.000000</td>\n",
       "      <td>2359.000000</td>\n",
       "      <td>2359.000000</td>\n",
       "      <td>1576.000000</td>\n",
       "      <td>225.000000</td>\n",
       "      <td>2359.000000</td>\n",
       "      <td>680.000000</td>\n",
       "      <td>4983.000000</td>\n",
       "    </tr>\n",
       "  </tbody>\n",
       "</table>\n",
       "</div>"
      ],
      "text/plain": [
       "       ARRIVAL_DELAY          MONTH            DAY    DAY_OF_WEEK  \\\n",
       "count  171492.000000  171492.000000  171492.000000  171492.000000   \n",
       "mean        4.429478       6.539804      15.711526       3.919757   \n",
       "std        39.640996       3.399039       8.770848       1.984597   \n",
       "min       -71.000000       1.000000       1.000000       1.000000   \n",
       "25%       -13.000000       4.000000       8.000000       2.000000   \n",
       "50%        -5.000000       7.000000      16.000000       4.000000   \n",
       "75%         8.000000       9.000000      23.000000       6.000000   \n",
       "max      1557.000000      12.000000      31.000000       7.000000   \n",
       "\n",
       "       SCHEDULED_ARRIVAL  DEPARTURE_TIME  DEPARTURE_DELAY       TAXI_OUT  \\\n",
       "count      171492.000000   171492.000000    171492.000000  171492.000000   \n",
       "mean         1491.471270     1334.137359         9.344284      16.024229   \n",
       "std           507.853364      495.862616        37.323754       8.846293   \n",
       "min             1.000000        1.000000       -38.000000       1.000000   \n",
       "25%          1109.000000      920.000000        -5.000000      11.000000   \n",
       "50%          1518.000000     1329.000000        -2.000000      14.000000   \n",
       "75%          1916.000000     1739.000000         7.000000      19.000000   \n",
       "max          2359.000000     2359.000000      1576.000000     225.000000   \n",
       "\n",
       "          WHEELS_OFF  SCHEDULED_TIME       DISTANCE  \n",
       "count  171492.000000   171492.000000  171492.000000  \n",
       "mean     1356.183571      141.977136     825.122933  \n",
       "std       497.410542       75.387740     608.792413  \n",
       "min         1.000000       18.000000      31.000000  \n",
       "25%       934.750000       86.000000     373.000000  \n",
       "50%      1342.000000      123.000000     649.000000  \n",
       "75%      1753.000000      174.000000    1067.000000  \n",
       "max      2359.000000      680.000000    4983.000000  "
      ]
     },
     "execution_count": 17,
     "metadata": {},
     "output_type": "execute_result"
    }
   ],
   "source": [
    "flights.loc[flights['WHEELS_OFF'] == 2400, 'WHEELS_OFF'] = 2359\n",
    "flights.loc[flights['DEPARTURE_TIME'] == 2400, 'DEPARTURE_TIME'] = 2359\n",
    "\n",
    "\n",
    "\n",
    "flights.describe()"
   ]
  },
  {
   "cell_type": "markdown",
   "metadata": {
    "id": "eZraBMwF8Miy"
   },
   "source": [
    "As we can infer from the output of the `decribe()` method, there are no values that are out of range or are non-sense in comparison with other values of the same column. "
   ]
  },
  {
   "cell_type": "code",
   "execution_count": 18,
   "metadata": {},
   "outputs": [],
   "source": [
    "# Delete all of the rows that contain integer values\n",
    "flights = flights[~flights['ORIGIN_AIRPORT'].apply(lambda x: isinstance(x, int))]\n",
    "flights = flights[~flights['DESTINATION_AIRPORT'].apply(lambda x: isinstance(x, int))]\n"
   ]
  },
  {
   "cell_type": "code",
   "execution_count": 19,
   "metadata": {},
   "outputs": [],
   "source": [
    "flights = flights[~flights['ORIGIN_AIRPORT'].apply(lambda x: str(x).isnumeric())]\n",
    "flights = flights[~flights['DESTINATION_AIRPORT'].apply(lambda x: str(x).isnumeric())]"
   ]
  },
  {
   "cell_type": "markdown",
   "metadata": {
    "id": "4ZwbFfyp9k-l"
   },
   "source": [
    "### 1.4 Handle categorical data\n"
   ]
  },
  {
   "attachments": {},
   "cell_type": "markdown",
   "metadata": {},
   "source": [
    "We are going to start by looking at our columns to determine what type of data each one of them contains.\n"
   ]
  },
  {
   "cell_type": "code",
   "execution_count": 20,
   "metadata": {
    "colab": {
     "base_uri": "https://localhost:8080/"
    },
    "id": "d4Mmph7r97oo",
    "outputId": "06cdb8d8-d82b-4c83-d198-60705beff9ec"
   },
   "outputs": [
    {
     "name": "stdout",
     "output_type": "stream",
     "text": [
      "ARRIVAL_DELAY float64\n",
      "MONTH int64\n",
      "DAY int64\n",
      "DAY_OF_WEEK int64\n",
      "AIRLINE object\n",
      "ORIGIN_AIRPORT object\n",
      "DESTINATION_AIRPORT object\n",
      "SCHEDULED_ARRIVAL int64\n",
      "DEPARTURE_TIME float64\n",
      "DEPARTURE_DELAY float64\n",
      "TAXI_OUT float64\n",
      "WHEELS_OFF float64\n",
      "SCHEDULED_TIME float64\n",
      "DISTANCE int64\n"
     ]
    }
   ],
   "source": [
    "#Check nature of the columns \n",
    "for col in flights.columns:\n",
    "  print(col, flights[col].dtype)"
   ]
  },
  {
   "attachments": {},
   "cell_type": "markdown",
   "metadata": {},
   "source": [
    "Now that we have an idea of the nature of each column we must determine which columns we are going to modify. Those columns are going to be the ones containing categorical variables. We are going to modify:\n",
    "- Month\n",
    "- Arrival_delay\n",
    "- Day\n",
    "- Day_of_week\n",
    "- Origin_airport\n",
    "- Destination_airport"
   ]
  },
  {
   "cell_type": "markdown",
   "metadata": {
    "id": "QiHh3pHHfwVV"
   },
   "source": [
    "The next thing we want to do after observing the types of every feature is to transform some variables to categorical. To start with, we are going to partition 4 airport areas for the US, so that data is more manageable"
   ]
  },
  {
   "attachments": {},
   "cell_type": "markdown",
   "metadata": {},
   "source": [
    "#### Month column"
   ]
  },
  {
   "attachments": {},
   "cell_type": "markdown",
   "metadata": {},
   "source": [
    "The transformation we have chosen for the MONTH column is grouping the month by quarters. This will allow us to reduce the number of categories from 12 to 3. \n",
    "\n",
    "Additionally, when dividing the year in quarters we get a partition that closely matches the different travel seasons. Summer season matches almost perfectly with the second quarter while the first and third quarter match with winter season."
   ]
  },
  {
   "cell_type": "code",
   "execution_count": 21,
   "metadata": {
    "colab": {
     "base_uri": "https://localhost:8080/",
     "height": 381
    },
    "id": "7qiBl0YzhBmX",
    "outputId": "946e44b0-5f07-4969-a137-28ebc8d1e52b"
   },
   "outputs": [],
   "source": [
    "# MONTH treatment: group months in quarters\n",
    "flights['Q_YEAR'] = flights['MONTH'].apply(lambda x: (x-1)//4 + 1)"
   ]
  },
  {
   "attachments": {},
   "cell_type": "markdown",
   "metadata": {},
   "source": [
    "#### Arrival_delay column"
   ]
  },
  {
   "attachments": {},
   "cell_type": "markdown",
   "metadata": {},
   "source": [
    "Another column whichs data we need to process is the ARRIVAL_DELAY column. This column is the one we want to predict and the aim of our model is to be able to predict if a flight will arrive to its destination with some type of delay. Therefore, we want to convert this column into a column with binary values.\n",
    "\n",
    "We will create a new column in our dataset (i.e. DELAYED) which will have a 1 if the flight is delayed and 0 otherwise."
   ]
  },
  {
   "cell_type": "code",
   "execution_count": 22,
   "metadata": {},
   "outputs": [],
   "source": [
    "# DELAY TREATMENT\n",
    "flights['DELAYED'] = flights['ARRIVAL_DELAY'].apply(lambda x: 1 if x > 0 else 0)"
   ]
  },
  {
   "attachments": {},
   "cell_type": "markdown",
   "metadata": {},
   "source": [
    "#### Day column"
   ]
  },
  {
   "attachments": {},
   "cell_type": "markdown",
   "metadata": {},
   "source": [
    "The DAY column has values that range from 1 to 31, which it's unfeasible to work with. We have decided to divide the month in two fortnights and classify each day with the value of the fortnight they belong to. \n",
    "- From days 1 - 15 they will belong to the first fortnight. They will have a value of 1.\n",
    "- From days 15 - 31 they will belong to the second fortnight. The will have a value of 2."
   ]
  },
  {
   "cell_type": "code",
   "execution_count": 23,
   "metadata": {
    "colab": {
     "base_uri": "https://localhost:8080/",
     "height": 1000
    },
    "id": "uONZFls9ueiW",
    "outputId": "cadec565-7aa7-405b-8a98-f24f4f4e9988"
   },
   "outputs": [],
   "source": [
    "# DAY treatment \n",
    "\n",
    "flights['FORTNIGHT'] = pd.cut(flights['DAY'], bins=[0, 15, 31], labels=[1, 2], include_lowest=True)\n"
   ]
  },
  {
   "attachments": {},
   "cell_type": "markdown",
   "metadata": {},
   "source": [
    "We believe that this is an appropiate transformation because, usually, people earn they salaries at the end of the month. Therefore, people will have more money available during the first fortnight and this could mean that the number of passengers increase causing to be more flights during the first fortnight. \n"
   ]
  },
  {
   "attachments": {},
   "cell_type": "markdown",
   "metadata": {},
   "source": [
    "#### Day_of_week column"
   ]
  },
  {
   "attachments": {},
   "cell_type": "markdown",
   "metadata": {},
   "source": [
    "The same arguments we used for the DAY column apply to DAY_OF_WEEK. The values in this column range from 1 (i.e.: Monday) to 7 (i.e.: Sunday). Instead of working with each of this values, we are going to separate them into working days and weekends."
   ]
  },
  {
   "cell_type": "code",
   "execution_count": 24,
   "metadata": {},
   "outputs": [],
   "source": [
    "# DAY_OF_WEEK 1 is in-week days, 2 is weekend\n",
    "\n",
    "flights['WEEK_INFO'] = pd.cut(flights['DAY_OF_WEEK'], bins=[1, 5, 7], labels=[1, 2], include_lowest=True)\n"
   ]
  },
  {
   "attachments": {},
   "cell_type": "markdown",
   "metadata": {},
   "source": [
    "#### Airline column"
   ]
  },
  {
   "attachments": {},
   "cell_type": "markdown",
   "metadata": {},
   "source": [
    "We are now going to treat the AIRLINES column. Originally, our dataframe had around 15 different airlines and we considered that it was going to be unfeasible to work with all of them. Therefore, we have decided to divide them intro three major groups:\n",
    "- Major airlines\n",
    "- Low cost airlines\n",
    "- Regional airlines\n",
    "\n",
    "We believe that this is a valid division because the nature of the airline could possibly affect the amount of delayed flights they have. "
   ]
  },
  {
   "cell_type": "code",
   "execution_count": null,
   "metadata": {},
   "outputs": [],
   "source": [
    "# AIRLINE\n",
    "\n",
    "# Define the airlines categories\n",
    "major_airlines = ['DL', 'AA', 'UA', 'US', 'AS']\n",
    "low_cost_airlines = ['WN', 'NK', 'F9', 'B6', 'VX']\n",
    "regional_airlines = ['EV', 'OO', 'MQ', 'HA']\n",
    "\n",
    "# create a new column with the airline category\n",
    "flights['AC'] = 'Other'\n",
    "flights.loc[flights['AIRLINE'].isin(major_airlines), 'AC'] = 'Major'\n",
    "flights.loc[flights['AIRLINE'].isin(low_cost_airlines), 'AC'] = 'Low-Cost'\n",
    "flights.loc[flights['AIRLINE'].isin(regional_airlines), 'AC'] = 'Regional'"
   ]
  },
  {
   "attachments": {},
   "cell_type": "markdown",
   "metadata": {},
   "source": [
    "#### Origin_airport column"
   ]
  },
  {
   "attachments": {},
   "cell_type": "markdown",
   "metadata": {},
   "source": [
    "In the original dataset there are over 300 different airports. Although it would be great to be able to keep all of them as individual categories, we have also considered it unfeasible. So, in order to reduce the number of categories, we are going to divide the USA territory in four quadrants:\n",
    "- Upper left\n",
    "- Upper right\n",
    "- Bottom right\n",
    "- Bottom left"
   ]
  },
  {
   "attachments": {},
   "cell_type": "markdown",
   "metadata": {},
   "source": [
    "However, before being able to classify the airports as we just mentioned, we first need to get its coordinates. This can be achieved by extractinc the necessary data (i.e. longitude and latitude) from the *airports* dataset"
   ]
  },
  {
   "cell_type": "code",
   "execution_count": 26,
   "metadata": {},
   "outputs": [],
   "source": [
    "# Change the index of the dataset to the IATA_CODE (code that identifies each airport)\n",
    "airports = airports.set_index('IATA_CODE')"
   ]
  },
  {
   "cell_type": "code",
   "execution_count": 27,
   "metadata": {},
   "outputs": [
    {
     "data": {
      "text/html": [
       "<div>\n",
       "<style scoped>\n",
       "    .dataframe tbody tr th:only-of-type {\n",
       "        vertical-align: middle;\n",
       "    }\n",
       "\n",
       "    .dataframe tbody tr th {\n",
       "        vertical-align: top;\n",
       "    }\n",
       "\n",
       "    .dataframe thead th {\n",
       "        text-align: right;\n",
       "    }\n",
       "</style>\n",
       "<table border=\"1\" class=\"dataframe\">\n",
       "  <thead>\n",
       "    <tr style=\"text-align: right;\">\n",
       "      <th></th>\n",
       "      <th>ARRIVAL_DELAY</th>\n",
       "      <th>MONTH</th>\n",
       "      <th>DAY</th>\n",
       "      <th>DAY_OF_WEEK</th>\n",
       "      <th>SCHEDULED_ARRIVAL</th>\n",
       "      <th>DEPARTURE_TIME</th>\n",
       "      <th>DEPARTURE_DELAY</th>\n",
       "      <th>TAXI_OUT</th>\n",
       "      <th>WHEELS_OFF</th>\n",
       "      <th>SCHEDULED_TIME</th>\n",
       "      <th>DISTANCE</th>\n",
       "      <th>Q_YEAR</th>\n",
       "      <th>DELAYED</th>\n",
       "      <th>LONGITUDE_O</th>\n",
       "      <th>LATITUDE_O</th>\n",
       "    </tr>\n",
       "  </thead>\n",
       "  <tbody>\n",
       "    <tr>\n",
       "      <th>count</th>\n",
       "      <td>157200.000000</td>\n",
       "      <td>157200.000000</td>\n",
       "      <td>157200.000000</td>\n",
       "      <td>157200.000000</td>\n",
       "      <td>157200.000000</td>\n",
       "      <td>157200.000000</td>\n",
       "      <td>157200.000000</td>\n",
       "      <td>157200.000000</td>\n",
       "      <td>157200.000000</td>\n",
       "      <td>157200.000000</td>\n",
       "      <td>157200.000000</td>\n",
       "      <td>157200.000000</td>\n",
       "      <td>157200.000000</td>\n",
       "      <td>157078.000000</td>\n",
       "      <td>157078.000000</td>\n",
       "    </tr>\n",
       "    <tr>\n",
       "      <th>mean</th>\n",
       "      <td>4.847118</td>\n",
       "      <td>6.225216</td>\n",
       "      <td>15.697977</td>\n",
       "      <td>3.914466</td>\n",
       "      <td>1491.775999</td>\n",
       "      <td>1335.216826</td>\n",
       "      <td>9.699771</td>\n",
       "      <td>16.036571</td>\n",
       "      <td>1357.141698</td>\n",
       "      <td>142.041177</td>\n",
       "      <td>825.443804</td>\n",
       "      <td>1.915413</td>\n",
       "      <td>0.372010</td>\n",
       "      <td>-95.590451</td>\n",
       "      <td>36.602245</td>\n",
       "    </tr>\n",
       "    <tr>\n",
       "      <th>std</th>\n",
       "      <td>40.031976</td>\n",
       "      <td>3.378811</td>\n",
       "      <td>8.760989</td>\n",
       "      <td>1.989374</td>\n",
       "      <td>508.628687</td>\n",
       "      <td>496.674295</td>\n",
       "      <td>37.715590</td>\n",
       "      <td>8.930382</td>\n",
       "      <td>498.271810</td>\n",
       "      <td>75.369468</td>\n",
       "      <td>608.218666</td>\n",
       "      <td>0.782550</td>\n",
       "      <td>0.483343</td>\n",
       "      <td>18.149212</td>\n",
       "      <td>6.005002</td>\n",
       "    </tr>\n",
       "    <tr>\n",
       "      <th>min</th>\n",
       "      <td>-70.000000</td>\n",
       "      <td>1.000000</td>\n",
       "      <td>1.000000</td>\n",
       "      <td>1.000000</td>\n",
       "      <td>1.000000</td>\n",
       "      <td>1.000000</td>\n",
       "      <td>-38.000000</td>\n",
       "      <td>1.000000</td>\n",
       "      <td>1.000000</td>\n",
       "      <td>18.000000</td>\n",
       "      <td>31.000000</td>\n",
       "      <td>1.000000</td>\n",
       "      <td>0.000000</td>\n",
       "      <td>-176.646030</td>\n",
       "      <td>13.483450</td>\n",
       "    </tr>\n",
       "    <tr>\n",
       "      <th>25%</th>\n",
       "      <td>-13.000000</td>\n",
       "      <td>3.000000</td>\n",
       "      <td>8.000000</td>\n",
       "      <td>2.000000</td>\n",
       "      <td>1109.000000</td>\n",
       "      <td>920.000000</td>\n",
       "      <td>-5.000000</td>\n",
       "      <td>11.000000</td>\n",
       "      <td>935.000000</td>\n",
       "      <td>86.000000</td>\n",
       "      <td>373.000000</td>\n",
       "      <td>1.000000</td>\n",
       "      <td>0.000000</td>\n",
       "      <td>-111.977770</td>\n",
       "      <td>32.895950</td>\n",
       "    </tr>\n",
       "    <tr>\n",
       "      <th>50%</th>\n",
       "      <td>-5.000000</td>\n",
       "      <td>6.000000</td>\n",
       "      <td>16.000000</td>\n",
       "      <td>4.000000</td>\n",
       "      <td>1519.000000</td>\n",
       "      <td>1330.000000</td>\n",
       "      <td>-1.000000</td>\n",
       "      <td>14.000000</td>\n",
       "      <td>1343.000000</td>\n",
       "      <td>123.000000</td>\n",
       "      <td>650.000000</td>\n",
       "      <td>2.000000</td>\n",
       "      <td>0.000000</td>\n",
       "      <td>-90.258030</td>\n",
       "      <td>36.894610</td>\n",
       "    </tr>\n",
       "    <tr>\n",
       "      <th>75%</th>\n",
       "      <td>8.000000</td>\n",
       "      <td>9.000000</td>\n",
       "      <td>23.000000</td>\n",
       "      <td>6.000000</td>\n",
       "      <td>1917.000000</td>\n",
       "      <td>1740.000000</td>\n",
       "      <td>8.000000</td>\n",
       "      <td>19.000000</td>\n",
       "      <td>1754.000000</td>\n",
       "      <td>174.000000</td>\n",
       "      <td>1067.000000</td>\n",
       "      <td>3.000000</td>\n",
       "      <td>1.000000</td>\n",
       "      <td>-81.755170</td>\n",
       "      <td>40.788390</td>\n",
       "    </tr>\n",
       "    <tr>\n",
       "      <th>max</th>\n",
       "      <td>1557.000000</td>\n",
       "      <td>12.000000</td>\n",
       "      <td>31.000000</td>\n",
       "      <td>7.000000</td>\n",
       "      <td>2359.000000</td>\n",
       "      <td>2359.000000</td>\n",
       "      <td>1576.000000</td>\n",
       "      <td>225.000000</td>\n",
       "      <td>2359.000000</td>\n",
       "      <td>680.000000</td>\n",
       "      <td>4983.000000</td>\n",
       "      <td>3.000000</td>\n",
       "      <td>1.000000</td>\n",
       "      <td>-64.798560</td>\n",
       "      <td>71.285450</td>\n",
       "    </tr>\n",
       "  </tbody>\n",
       "</table>\n",
       "</div>"
      ],
      "text/plain": [
       "       ARRIVAL_DELAY          MONTH            DAY    DAY_OF_WEEK  \\\n",
       "count  157200.000000  157200.000000  157200.000000  157200.000000   \n",
       "mean        4.847118       6.225216      15.697977       3.914466   \n",
       "std        40.031976       3.378811       8.760989       1.989374   \n",
       "min       -70.000000       1.000000       1.000000       1.000000   \n",
       "25%       -13.000000       3.000000       8.000000       2.000000   \n",
       "50%        -5.000000       6.000000      16.000000       4.000000   \n",
       "75%         8.000000       9.000000      23.000000       6.000000   \n",
       "max      1557.000000      12.000000      31.000000       7.000000   \n",
       "\n",
       "       SCHEDULED_ARRIVAL  DEPARTURE_TIME  DEPARTURE_DELAY       TAXI_OUT  \\\n",
       "count      157200.000000   157200.000000    157200.000000  157200.000000   \n",
       "mean         1491.775999     1335.216826         9.699771      16.036571   \n",
       "std           508.628687      496.674295        37.715590       8.930382   \n",
       "min             1.000000        1.000000       -38.000000       1.000000   \n",
       "25%          1109.000000      920.000000        -5.000000      11.000000   \n",
       "50%          1519.000000     1330.000000        -1.000000      14.000000   \n",
       "75%          1917.000000     1740.000000         8.000000      19.000000   \n",
       "max          2359.000000     2359.000000      1576.000000     225.000000   \n",
       "\n",
       "          WHEELS_OFF  SCHEDULED_TIME       DISTANCE         Q_YEAR  \\\n",
       "count  157200.000000   157200.000000  157200.000000  157200.000000   \n",
       "mean     1357.141698      142.041177     825.443804       1.915413   \n",
       "std       498.271810       75.369468     608.218666       0.782550   \n",
       "min         1.000000       18.000000      31.000000       1.000000   \n",
       "25%       935.000000       86.000000     373.000000       1.000000   \n",
       "50%      1343.000000      123.000000     650.000000       2.000000   \n",
       "75%      1754.000000      174.000000    1067.000000       3.000000   \n",
       "max      2359.000000      680.000000    4983.000000       3.000000   \n",
       "\n",
       "             DELAYED    LONGITUDE_O     LATITUDE_O  \n",
       "count  157200.000000  157078.000000  157078.000000  \n",
       "mean        0.372010     -95.590451      36.602245  \n",
       "std         0.483343      18.149212       6.005002  \n",
       "min         0.000000    -176.646030      13.483450  \n",
       "25%         0.000000    -111.977770      32.895950  \n",
       "50%         0.000000     -90.258030      36.894610  \n",
       "75%         1.000000     -81.755170      40.788390  \n",
       "max         1.000000     -64.798560      71.285450  "
      ]
     },
     "execution_count": 27,
     "metadata": {},
     "output_type": "execute_result"
    }
   ],
   "source": [
    "# Add LONGITUDE_O column to each row in flights with the longitude of the origin airport\n",
    "flights['LONGITUDE_O'] = flights['ORIGIN_AIRPORT'].apply(lambda x: airports.loc[x]['LONGITUDE'])\n",
    "\n",
    "# Add LATITUDE_O column to each row in flights with the latitude of the origin airport\n",
    "flights['LATITUDE_O'] = flights['ORIGIN_AIRPORT'].apply(lambda x: airports.loc[x]['LATITUDE'])"
   ]
  },
  {
   "attachments": {},
   "cell_type": "markdown",
   "metadata": {},
   "source": [
    "However, we have detected that some rows have a *NaN* value in either their longitude or latitude. Since this happens rarely, we can delete those columns without loosing to many rows. "
   ]
  },
  {
   "cell_type": "code",
   "execution_count": 28,
   "metadata": {},
   "outputs": [
    {
     "name": "stdout",
     "output_type": "stream",
     "text": [
      "157078\n",
      "157200\n"
     ]
    }
   ],
   "source": [
    "# we observe some nans are generated and we remove them \n",
    "counter = flights[\"LONGITUDE_O\"].isna() == False\n",
    "count_false = sum(counter)\n",
    "print(count_false/len(flights[\"LONGITUDE_O\"]))\n",
    "flights = flights.dropna(how='any')\n"
   ]
  },
  {
   "attachments": {},
   "cell_type": "markdown",
   "metadata": {},
   "source": [
    "Once we have removed al conflictive rows, we can proceed with the classification of the airports by its location."
   ]
  },
  {
   "cell_type": "code",
   "execution_count": 29,
   "metadata": {},
   "outputs": [],
   "source": [
    "# Create empty column with airport location (i.e.: GR_O)\n",
    "flights['GR_O'] = ''\n",
    "\n",
    "# Classify the airports\n",
    "# Upper right\n",
    "flights.loc[(flights['LONGITUDE_O'] >= -100) & (flights['LATITUDE_O'] >= 37), 'GR_O'] = 'UPPER_RIGHT'\n",
    "\n",
    "# Upper left\n",
    "flights.loc[(flights['LONGITUDE_O'] < -100) & (flights['LATITUDE_O'] >= 37), 'GR_O'] = 'UPPER_LEFT'\n",
    "\n",
    "# Bottom right\n",
    "flights.loc[(flights['LONGITUDE_O'] >= -100) & (flights['LATITUDE_O'] < 37), 'GR_O'] = 'BOTTOM_RIGHT'\n",
    "\n",
    "# Bottom left\n",
    "flights.loc[(flights['LONGITUDE_O'] < -100) & (flights['LATITUDE_O'] < 37), 'GR_O'] = 'BOTTOM_LEFT'\n"
   ]
  },
  {
   "attachments": {},
   "cell_type": "markdown",
   "metadata": {},
   "source": [
    "Lastly, we check that all airports have been given a location and that there are no empty quadrants, which would indicate that the classification is not correctly implemented."
   ]
  },
  {
   "cell_type": "code",
   "execution_count": 30,
   "metadata": {},
   "outputs": [
    {
     "data": {
      "text/plain": [
       "array(['UPPER_RIGHT', 'BOTTOM_LEFT', 'UPPER_LEFT', 'BOTTOM_RIGHT'],\n",
       "      dtype=object)"
      ]
     },
     "execution_count": 30,
     "metadata": {},
     "output_type": "execute_result"
    }
   ],
   "source": [
    "flights[\"GR_O\"].unique()"
   ]
  },
  {
   "cell_type": "markdown",
   "metadata": {
    "id": "iy8g04lNBpmY"
   },
   "source": [
    "We observe a huge amount of features which may overfit the model in case of using them all. Therefore we will try to choose an optimal subset of explanatory variables that are going to be able to give our model the enough information in order to do good predictions. \n",
    "\n",
    "**Observation: We cannot follow like this since we need to consider some categorical variables. REMEMBER to one_shot_encode them before going on**"
   ]
  },
  {
   "cell_type": "code",
   "execution_count": 31,
   "metadata": {},
   "outputs": [],
   "source": [
    "flights['LONGITUDE_D'] = flights['DESTINATION_AIRPORT'].apply(lambda x: airports.loc[x]['LONGITUDE'])\n",
    "flights['LATITUDE_D'] = flights['DESTINATION_AIRPORT'].apply(lambda x: airports.loc[x]['LATITUDE'])\n",
    "\n"
   ]
  },
  {
   "cell_type": "code",
   "execution_count": 32,
   "metadata": {},
   "outputs": [],
   "source": [
    "flights['GR_D'] = ''\n",
    "flights.loc[(flights['LONGITUDE_D'] >= -100) & (flights['LATITUDE_D'] >= 37), 'GR_D'] = 'UPPER_RIGHT'\n",
    "flights.loc[(flights['LONGITUDE_D'] < -100) & (flights['LATITUDE_D'] >= 37), 'GR_D'] = 'UPPER_LEFT'\n",
    "flights.loc[(flights['LONGITUDE_D'] >= -100) & (flights['LATITUDE_D'] < 37), 'GR_D'] = 'BOTTOM_RIGHT'\n",
    "flights.loc[(flights['LONGITUDE_D'] < -100) & (flights['LATITUDE_D'] < 37), 'GR_D'] = 'BOTTOM_LEFT'"
   ]
  },
  {
   "cell_type": "code",
   "execution_count": 33,
   "metadata": {},
   "outputs": [
    {
     "name": "stdout",
     "output_type": "stream",
     "text": [
      "156940\n",
      "157078\n"
     ]
    }
   ],
   "source": [
    "# we observe some nans are generated and we remove them \n",
    "counter = flights[\"LONGITUDE_D\"].isna() == False\n",
    "count_false = sum(counter)\n",
    "print(count_false)\n",
    "print(len(flights[\"LONGITUDE_D\"]))\n",
    "\n",
    "flights = flights.dropna(how='any')"
   ]
  },
  {
   "cell_type": "code",
   "execution_count": 34,
   "metadata": {},
   "outputs": [
    {
     "data": {
      "text/plain": [
       "array(['UPPER_RIGHT', 'UPPER_LEFT', 'BOTTOM_RIGHT', 'BOTTOM_LEFT'],\n",
       "      dtype=object)"
      ]
     },
     "execution_count": 34,
     "metadata": {},
     "output_type": "execute_result"
    }
   ],
   "source": [
    "flights[\"GR_D\"].unique()"
   ]
  },
  {
   "cell_type": "code",
   "execution_count": 54,
   "metadata": {},
   "outputs": [
    {
     "ename": "KeyError",
     "evalue": "'LATITUDE_O'",
     "output_type": "error",
     "traceback": [
      "\u001b[1;31m---------------------------------------------------------------------------\u001b[0m",
      "\u001b[1;31mKeyError\u001b[0m                                  Traceback (most recent call last)",
      "File \u001b[1;32mc:\\Users\\marcj\\AppData\\Local\\Programs\\Python\\Python310\\lib\\site-packages\\pandas\\core\\indexes\\base.py:3803\u001b[0m, in \u001b[0;36mIndex.get_loc\u001b[1;34m(self, key, method, tolerance)\u001b[0m\n\u001b[0;32m   3802\u001b[0m \u001b[39mtry\u001b[39;00m:\n\u001b[1;32m-> 3803\u001b[0m     \u001b[39mreturn\u001b[39;00m \u001b[39mself\u001b[39;49m\u001b[39m.\u001b[39;49m_engine\u001b[39m.\u001b[39;49mget_loc(casted_key)\n\u001b[0;32m   3804\u001b[0m \u001b[39mexcept\u001b[39;00m \u001b[39mKeyError\u001b[39;00m \u001b[39mas\u001b[39;00m err:\n",
      "File \u001b[1;32mc:\\Users\\marcj\\AppData\\Local\\Programs\\Python\\Python310\\lib\\site-packages\\pandas\\_libs\\index.pyx:138\u001b[0m, in \u001b[0;36mpandas._libs.index.IndexEngine.get_loc\u001b[1;34m()\u001b[0m\n",
      "File \u001b[1;32mc:\\Users\\marcj\\AppData\\Local\\Programs\\Python\\Python310\\lib\\site-packages\\pandas\\_libs\\index.pyx:165\u001b[0m, in \u001b[0;36mpandas._libs.index.IndexEngine.get_loc\u001b[1;34m()\u001b[0m\n",
      "File \u001b[1;32mpandas\\_libs\\hashtable_class_helper.pxi:5745\u001b[0m, in \u001b[0;36mpandas._libs.hashtable.PyObjectHashTable.get_item\u001b[1;34m()\u001b[0m\n",
      "File \u001b[1;32mpandas\\_libs\\hashtable_class_helper.pxi:5753\u001b[0m, in \u001b[0;36mpandas._libs.hashtable.PyObjectHashTable.get_item\u001b[1;34m()\u001b[0m\n",
      "\u001b[1;31mKeyError\u001b[0m: 'LATITUDE_O'",
      "\nThe above exception was the direct cause of the following exception:\n",
      "\u001b[1;31mKeyError\u001b[0m                                  Traceback (most recent call last)",
      "Cell \u001b[1;32mIn[54], line 4\u001b[0m\n\u001b[0;32m      1\u001b[0m \u001b[39mimport\u001b[39;00m \u001b[39mgmplot\u001b[39;00m\n\u001b[0;32m      3\u001b[0m \u001b[39m# Initialize the map with the first airport as the center point\u001b[39;00m\n\u001b[1;32m----> 4\u001b[0m gmap \u001b[39m=\u001b[39m gmplot\u001b[39m.\u001b[39mGoogleMapPlotter(flights\u001b[39m.\u001b[39;49miloc[\u001b[39m0\u001b[39;49m][\u001b[39m'\u001b[39;49m\u001b[39mLATITUDE_O\u001b[39;49m\u001b[39m'\u001b[39;49m], flights\u001b[39m.\u001b[39miloc[\u001b[39m0\u001b[39m][\u001b[39m'\u001b[39m\u001b[39mLONGITUDE_O\u001b[39m\u001b[39m'\u001b[39m], zoom\u001b[39m=\u001b[39m\u001b[39m3\u001b[39m)\n\u001b[0;32m      6\u001b[0m \u001b[39m# Define the color mapping for different values of GR_D\u001b[39;00m\n\u001b[0;32m      7\u001b[0m color_map \u001b[39m=\u001b[39m {\n\u001b[0;32m      8\u001b[0m     \u001b[39m'\u001b[39m\u001b[39mUPPER_RIGHT\u001b[39m\u001b[39m'\u001b[39m: \u001b[39m'\u001b[39m\u001b[39mred\u001b[39m\u001b[39m'\u001b[39m,\n\u001b[0;32m      9\u001b[0m     \u001b[39m'\u001b[39m\u001b[39mUPPER_LEFT\u001b[39m\u001b[39m'\u001b[39m: \u001b[39m'\u001b[39m\u001b[39mgreen\u001b[39m\u001b[39m'\u001b[39m,\n\u001b[0;32m     10\u001b[0m     \u001b[39m'\u001b[39m\u001b[39mBOTTOM_RIGHT\u001b[39m\u001b[39m'\u001b[39m: \u001b[39m'\u001b[39m\u001b[39mblue\u001b[39m\u001b[39m'\u001b[39m,\n\u001b[0;32m     11\u001b[0m     \u001b[39m'\u001b[39m\u001b[39mBOTTOM_LEFT\u001b[39m\u001b[39m'\u001b[39m: \u001b[39m'\u001b[39m\u001b[39mpurple\u001b[39m\u001b[39m'\u001b[39m\n\u001b[0;32m     12\u001b[0m }\n",
      "File \u001b[1;32mc:\\Users\\marcj\\AppData\\Local\\Programs\\Python\\Python310\\lib\\site-packages\\pandas\\core\\series.py:981\u001b[0m, in \u001b[0;36mSeries.__getitem__\u001b[1;34m(self, key)\u001b[0m\n\u001b[0;32m    978\u001b[0m     \u001b[39mreturn\u001b[39;00m \u001b[39mself\u001b[39m\u001b[39m.\u001b[39m_values[key]\n\u001b[0;32m    980\u001b[0m \u001b[39melif\u001b[39;00m key_is_scalar:\n\u001b[1;32m--> 981\u001b[0m     \u001b[39mreturn\u001b[39;00m \u001b[39mself\u001b[39;49m\u001b[39m.\u001b[39;49m_get_value(key)\n\u001b[0;32m    983\u001b[0m \u001b[39mif\u001b[39;00m is_hashable(key):\n\u001b[0;32m    984\u001b[0m     \u001b[39m# Otherwise index.get_value will raise InvalidIndexError\u001b[39;00m\n\u001b[0;32m    985\u001b[0m     \u001b[39mtry\u001b[39;00m:\n\u001b[0;32m    986\u001b[0m         \u001b[39m# For labels that don't resolve as scalars like tuples and frozensets\u001b[39;00m\n",
      "File \u001b[1;32mc:\\Users\\marcj\\AppData\\Local\\Programs\\Python\\Python310\\lib\\site-packages\\pandas\\core\\series.py:1089\u001b[0m, in \u001b[0;36mSeries._get_value\u001b[1;34m(self, label, takeable)\u001b[0m\n\u001b[0;32m   1086\u001b[0m     \u001b[39mreturn\u001b[39;00m \u001b[39mself\u001b[39m\u001b[39m.\u001b[39m_values[label]\n\u001b[0;32m   1088\u001b[0m \u001b[39m# Similar to Index.get_value, but we do not fall back to positional\u001b[39;00m\n\u001b[1;32m-> 1089\u001b[0m loc \u001b[39m=\u001b[39m \u001b[39mself\u001b[39;49m\u001b[39m.\u001b[39;49mindex\u001b[39m.\u001b[39;49mget_loc(label)\n\u001b[0;32m   1090\u001b[0m \u001b[39mreturn\u001b[39;00m \u001b[39mself\u001b[39m\u001b[39m.\u001b[39mindex\u001b[39m.\u001b[39m_get_values_for_loc(\u001b[39mself\u001b[39m, loc, label)\n",
      "File \u001b[1;32mc:\\Users\\marcj\\AppData\\Local\\Programs\\Python\\Python310\\lib\\site-packages\\pandas\\core\\indexes\\base.py:3805\u001b[0m, in \u001b[0;36mIndex.get_loc\u001b[1;34m(self, key, method, tolerance)\u001b[0m\n\u001b[0;32m   3803\u001b[0m     \u001b[39mreturn\u001b[39;00m \u001b[39mself\u001b[39m\u001b[39m.\u001b[39m_engine\u001b[39m.\u001b[39mget_loc(casted_key)\n\u001b[0;32m   3804\u001b[0m \u001b[39mexcept\u001b[39;00m \u001b[39mKeyError\u001b[39;00m \u001b[39mas\u001b[39;00m err:\n\u001b[1;32m-> 3805\u001b[0m     \u001b[39mraise\u001b[39;00m \u001b[39mKeyError\u001b[39;00m(key) \u001b[39mfrom\u001b[39;00m \u001b[39merr\u001b[39;00m\n\u001b[0;32m   3806\u001b[0m \u001b[39mexcept\u001b[39;00m \u001b[39mTypeError\u001b[39;00m:\n\u001b[0;32m   3807\u001b[0m     \u001b[39m# If we have a listlike key, _check_indexing_error will raise\u001b[39;00m\n\u001b[0;32m   3808\u001b[0m     \u001b[39m#  InvalidIndexError. Otherwise we fall through and re-raise\u001b[39;00m\n\u001b[0;32m   3809\u001b[0m     \u001b[39m#  the TypeError.\u001b[39;00m\n\u001b[0;32m   3810\u001b[0m     \u001b[39mself\u001b[39m\u001b[39m.\u001b[39m_check_indexing_error(key)\n",
      "\u001b[1;31mKeyError\u001b[0m: 'LATITUDE_O'"
     ]
    }
   ],
   "source": [
    "import gmplot\n",
    "\n",
    "# Initialize the map with the first airport as the center point\n",
    "gmap = gmplot.GoogleMapPlotter(flights.iloc[0]['LATITUDE_O'], flights.iloc[0]['LONGITUDE_O'], zoom=3)\n",
    "\n",
    "# Define the color mapping for different values of GR_D\n",
    "color_map = {\n",
    "    'UPPER_RIGHT': 'red',\n",
    "    'UPPER_LEFT': 'green',\n",
    "    'BOTTOM_RIGHT': 'blue',\n",
    "    'BOTTOM_LEFT': 'purple'\n",
    "}\n",
    "\n",
    "# Plot each airport with its corresponding color\n",
    "for i, row in flights.iterrows():\n",
    "    color = color_map.get(row['GR_D'], 'gray')\n",
    "    gmap.marker(row['LATITUDE_O'], row['LONGITUDE_O'], color=color)\n",
    "\n",
    "# Draw the map and save it to an HTML file\n",
    "gmap.draw('airports_map.html')\n"
   ]
  },
  {
   "cell_type": "code",
   "execution_count": 37,
   "metadata": {},
   "outputs": [],
   "source": [
    "\n",
    "# Define a function to classify the time segment based on the input time\n",
    "def classify_time(time):\n",
    "    sunrise = 600.0   # Define the time of sunrise as 6:00 am (in decimal format)\n",
    "    sunset = 1800.0   # Define the time of sunset as 6:00 pm (in decimal format)\n",
    "    \n",
    "    if time >= sunrise and time < sunset:\n",
    "        return 'Daytime'\n",
    "    else:\n",
    "        return 'Nighttime'\n",
    "    "
   ]
  },
  {
   "cell_type": "code",
   "execution_count": 38,
   "metadata": {},
   "outputs": [],
   "source": [
    "# Change formatting of SCHEDULED_ARRIVAL and DEPARTURE_TIME\n",
    "flights['ArrivalDayNight'] = flights['SCHEDULED_ARRIVAL'].apply(classify_time)\n",
    "flights['DepartureDayNight'] = flights['DEPARTURE_TIME'].apply(classify_time)"
   ]
  },
  {
   "cell_type": "code",
   "execution_count": 39,
   "metadata": {},
   "outputs": [
    {
     "data": {
      "text/plain": [
       "Index(['ARRIVAL_DELAY', 'MONTH', 'DAY', 'DAY_OF_WEEK', 'AIRLINE',\n",
       "       'ORIGIN_AIRPORT', 'DESTINATION_AIRPORT', 'SCHEDULED_ARRIVAL',\n",
       "       'DEPARTURE_TIME', 'DEPARTURE_DELAY', 'TAXI_OUT', 'WHEELS_OFF',\n",
       "       'SCHEDULED_TIME', 'DISTANCE', 'Q_YEAR', 'DELAYED', 'FORTNIGHT',\n",
       "       'WEEK_INFO', 'AC', 'LONGITUDE_O', 'LATITUDE_O', 'GR_O', 'LONGITUDE_D',\n",
       "       'LATITUDE_D', 'GR_D', 'ArrivalDayNight', 'DepartureDayNight'],\n",
       "      dtype='object')"
      ]
     },
     "execution_count": 39,
     "metadata": {},
     "output_type": "execute_result"
    }
   ],
   "source": [
    "flights.describe()\n",
    "flights.columns"
   ]
  },
  {
   "cell_type": "code",
   "execution_count": 40,
   "metadata": {},
   "outputs": [],
   "source": [
    "flights = flights[['DELAYED','DEPARTURE_DELAY', 'TAXI_OUT', 'WHEELS_OFF', 'SCHEDULED_TIME',\n",
    "       'DISTANCE', 'Q_YEAR', 'FORTNIGHT', 'WEEK_INFO', 'AC', 'GR_O',\n",
    "       'GR_D', 'ArrivalDayNight', 'DepartureDayNight']]"
   ]
  },
  {
   "cell_type": "code",
   "execution_count": 41,
   "metadata": {},
   "outputs": [
    {
     "data": {
      "text/plain": [
       "Index(['DELAYED', 'DEPARTURE_DELAY', 'TAXI_OUT', 'WHEELS_OFF',\n",
       "       'SCHEDULED_TIME', 'DISTANCE', 'Q_YEAR', 'FORTNIGHT', 'WEEK_INFO', 'AC',\n",
       "       'GR_O', 'GR_D', 'ArrivalDayNight', 'DepartureDayNight'],\n",
       "      dtype='object')"
      ]
     },
     "execution_count": 41,
     "metadata": {},
     "output_type": "execute_result"
    }
   ],
   "source": [
    "flights.columns"
   ]
  },
  {
   "cell_type": "code",
   "execution_count": 42,
   "metadata": {},
   "outputs": [
    {
     "data": {
      "text/plain": [
       "array([[<Axes: title={'center': 'DEPARTURE_DELAY'}>,\n",
       "        <Axes: title={'center': 'TAXI_OUT'}>],\n",
       "       [<Axes: title={'center': 'WHEELS_OFF'}>,\n",
       "        <Axes: title={'center': 'SCHEDULED_TIME'}>],\n",
       "       [<Axes: title={'center': 'DISTANCE'}>, <Axes: >]], dtype=object)"
      ]
     },
     "execution_count": 42,
     "metadata": {},
     "output_type": "execute_result"
    },
    {
     "data": {
      "image/png": "[encoded data removed]",
      "text/plain": [
       "<Figure size 640x480 with 6 Axes>"
      ]
     },
     "metadata": {},
     "output_type": "display_data"
    }
   ],
   "source": [
    "# Declare which variables are categorical and which ones are continuous. \n",
    "\n",
    "continuous = ['DEPARTURE_DELAY', 'TAXI_OUT', 'WHEELS_OFF', 'SCHEDULED_TIME',\n",
    "       'DISTANCE']\n",
    "\n",
    "flights[continuous].hist()               "
   ]
  },
  {
   "cell_type": "code",
   "execution_count": 43,
   "metadata": {},
   "outputs": [
    {
     "data": {
      "text/plain": [
       "156940"
      ]
     },
     "execution_count": 43,
     "metadata": {},
     "output_type": "execute_result"
    }
   ],
   "source": [
    "len(flights)"
   ]
  },
  {
   "cell_type": "code",
   "execution_count": 44,
   "metadata": {},
   "outputs": [],
   "source": [
    "\n",
    "def remove_outliers_zscore(data_series, threshold=3):\n",
    "    \"\"\"\n",
    "    Remove outliers from a pandas Series using the Z-score method.\n",
    "    :param data_series: a pandas Series containing the data\n",
    "    :param threshold: the number of standard deviations from the mean at which to consider a data point an outlier\n",
    "    :return: a new pandas Series with the outliers removed\n",
    "    \"\"\"\n",
    "    z_scores = np.abs((data_series - data_series.mean()) / data_series.std())\n",
    "    return data_series[z_scores <= threshold]\n"
   ]
  },
  {
   "cell_type": "code",
   "execution_count": 45,
   "metadata": {},
   "outputs": [
    {
     "data": {
      "text/plain": [
       "156940"
      ]
     },
     "execution_count": 45,
     "metadata": {},
     "output_type": "execute_result"
    }
   ],
   "source": [
    "# We observe that no outliers are removed. \n",
    "flights_cont = remove_outliers_zscore(flights[continuous])\n",
    "len(flights_cont)"
   ]
  },
  {
   "cell_type": "code",
   "execution_count": 46,
   "metadata": {},
   "outputs": [],
   "source": [
    "# we normalize continuous variables\n",
    "from sklearn.preprocessing import QuantileTransformer\n",
    "\n",
    "# Initialize transformer with number of quantiles and output distribution\n",
    "transformer = QuantileTransformer(n_quantiles=100, output_distribution='normal')\n",
    "\n",
    "# Apply transformation to continuous columns\n",
    "for col in continuous:\n",
    "    flights[col] = transformer.fit_transform(flights[col].values.reshape(-1, 1))"
   ]
  },
  {
   "cell_type": "code",
   "execution_count": 47,
   "metadata": {},
   "outputs": [
    {
     "data": {
      "text/plain": [
       "array([[<Axes: title={'center': 'DEPARTURE_DELAY'}>,\n",
       "        <Axes: title={'center': 'TAXI_OUT'}>],\n",
       "       [<Axes: title={'center': 'WHEELS_OFF'}>,\n",
       "        <Axes: title={'center': 'SCHEDULED_TIME'}>],\n",
       "       [<Axes: title={'center': 'DISTANCE'}>, <Axes: >]], dtype=object)"
      ]
     },
     "execution_count": 47,
     "metadata": {},
     "output_type": "execute_result"
    },
    {
     "data": {
      "image/png": "[encoded data removed]",
      "text/plain": [
       "<Figure size 640x480 with 6 Axes>"
      ]
     },
     "metadata": {},
     "output_type": "display_data"
    }
   ],
   "source": [
    "flights[continuous].hist()"
   ]
  },
  {
   "cell_type": "code",
   "execution_count": 48,
   "metadata": {},
   "outputs": [],
   "source": [
    "# one hot encoding for categorical variables\n",
    "categorical = ['Q_YEAR', 'FORTNIGHT', 'WEEK_INFO', 'AC', 'GR_O',\n",
    "       'GR_D', 'ArrivalDayNight', 'DepartureDayNight']\n",
    "\n",
    "flights= pd.get_dummies(flights, columns=categorical)"
   ]
  },
  {
   "cell_type": "code",
   "execution_count": 49,
   "metadata": {},
   "outputs": [
    {
     "data": {
      "text/plain": [
       "Index(['DELAYED', 'DEPARTURE_DELAY', 'TAXI_OUT', 'WHEELS_OFF',\n",
       "       'SCHEDULED_TIME', 'DISTANCE', 'Q_YEAR_1', 'Q_YEAR_2', 'Q_YEAR_3',\n",
       "       'FORTNIGHT_1', 'FORTNIGHT_2', 'WEEK_INFO_1', 'WEEK_INFO_2',\n",
       "       'AC_Low-Cost', 'AC_Major', 'AC_Regional', 'GR_O_BOTTOM_LEFT',\n",
       "       'GR_O_BOTTOM_RIGHT', 'GR_O_UPPER_LEFT', 'GR_O_UPPER_RIGHT',\n",
       "       'GR_D_BOTTOM_LEFT', 'GR_D_BOTTOM_RIGHT', 'GR_D_UPPER_LEFT',\n",
       "       'GR_D_UPPER_RIGHT', 'ArrivalDayNight_Daytime',\n",
       "       'ArrivalDayNight_Nighttime', 'DepartureDayNight_Daytime',\n",
       "       'DepartureDayNight_Nighttime'],\n",
       "      dtype='object')"
      ]
     },
     "execution_count": 49,
     "metadata": {},
     "output_type": "execute_result"
    }
   ],
   "source": [
    "flights.columns"
   ]
  },
  {
   "cell_type": "code",
   "execution_count": 50,
   "metadata": {},
   "outputs": [],
   "source": [
    "from sklearn.model_selection import train_test_split\n",
    "\n",
    "# Split data into features (X) and target variable (y)\n",
    "\n",
    "X = flights.drop('DELAYED', axis=1)\n",
    "y = flights['DELAYED']\n",
    "\n",
    "\n",
    "\n",
    "# Split data into training and testing sets\n",
    "X_train, X_test, y_train, y_test = train_test_split(X, y, test_size=0.2, random_state=42)\n",
    "\n"
   ]
  },
  {
   "cell_type": "code",
   "execution_count": 51,
   "metadata": {
    "id": "GkrBH5jr6jDJ"
   },
   "outputs": [
    {
     "data": {
      "text/html": [
       "<style>#sk-container-id-1 {color: black;background-color: white;}#sk-container-id-1 pre{padding: 0;}#sk-container-id-1 div.sk-toggleable {background-color: white;}#sk-container-id-1 label.sk-toggleable__label {cursor: pointer;display: block;width: 100%;margin-bottom: 0;padding: 0.3em;box-sizing: border-box;text-align: center;}#sk-container-id-1 label.sk-toggleable__label-arrow:before {content: \"▸\";float: left;margin-right: 0.25em;color: #696969;}#sk-container-id-1 label.sk-toggleable__label-arrow:hover:before {color: black;}#sk-container-id-1 div.sk-estimator:hover label.sk-toggleable__label-arrow:before {color: black;}#sk-container-id-1 div.sk-toggleable__content {max-height: 0;max-width: 0;overflow: hidden;text-align: left;background-color: #f0f8ff;}#sk-container-id-1 div.sk-toggleable__content pre {margin: 0.2em;color: black;border-radius: 0.25em;background-color: #f0f8ff;}#sk-container-id-1 input.sk-toggleable__control:checked~div.sk-toggleable__content {max-height: 200px;max-width: 100%;overflow: auto;}#sk-container-id-1 input.sk-toggleable__control:checked~label.sk-toggleable__label-arrow:before {content: \"▾\";}#sk-container-id-1 div.sk-estimator input.sk-toggleable__control:checked~label.sk-toggleable__label {background-color: #d4ebff;}#sk-container-id-1 div.sk-label input.sk-toggleable__control:checked~label.sk-toggleable__label {background-color: #d4ebff;}#sk-container-id-1 input.sk-hidden--visually {border: 0;clip: rect(1px 1px 1px 1px);clip: rect(1px, 1px, 1px, 1px);height: 1px;margin: -1px;overflow: hidden;padding: 0;position: absolute;width: 1px;}#sk-container-id-1 div.sk-estimator {font-family: monospace;background-color: #f0f8ff;border: 1px dotted black;border-radius: 0.25em;box-sizing: border-box;margin-bottom: 0.5em;}#sk-container-id-1 div.sk-estimator:hover {background-color: #d4ebff;}#sk-container-id-1 div.sk-parallel-item::after {content: \"\";width: 100%;border-bottom: 1px solid gray;flex-grow: 1;}#sk-container-id-1 div.sk-label:hover label.sk-toggleable__label {background-color: #d4ebff;}#sk-container-id-1 div.sk-serial::before {content: \"\";position: absolute;border-left: 1px solid gray;box-sizing: border-box;top: 0;bottom: 0;left: 50%;z-index: 0;}#sk-container-id-1 div.sk-serial {display: flex;flex-direction: column;align-items: center;background-color: white;padding-right: 0.2em;padding-left: 0.2em;position: relative;}#sk-container-id-1 div.sk-item {position: relative;z-index: 1;}#sk-container-id-1 div.sk-parallel {display: flex;align-items: stretch;justify-content: center;background-color: white;position: relative;}#sk-container-id-1 div.sk-item::before, #sk-container-id-1 div.sk-parallel-item::before {content: \"\";position: absolute;border-left: 1px solid gray;box-sizing: border-box;top: 0;bottom: 0;left: 50%;z-index: -1;}#sk-container-id-1 div.sk-parallel-item {display: flex;flex-direction: column;z-index: 1;position: relative;background-color: white;}#sk-container-id-1 div.sk-parallel-item:first-child::after {align-self: flex-end;width: 50%;}#sk-container-id-1 div.sk-parallel-item:last-child::after {align-self: flex-start;width: 50%;}#sk-container-id-1 div.sk-parallel-item:only-child::after {width: 0;}#sk-container-id-1 div.sk-dashed-wrapped {border: 1px dashed gray;margin: 0 0.4em 0.5em 0.4em;box-sizing: border-box;padding-bottom: 0.4em;background-color: white;}#sk-container-id-1 div.sk-label label {font-family: monospace;font-weight: bold;display: inline-block;line-height: 1.2em;}#sk-container-id-1 div.sk-label-container {text-align: center;}#sk-container-id-1 div.sk-container {/* jupyter's `normalize.less` sets `[hidden] { display: none; }` but bootstrap.min.css set `[hidden] { display: none !important; }` so we also need the `!important` here to be able to override the default hidden behavior on the sphinx rendered scikit-learn.org. See: https://github.com/scikit-learn/scikit-learn/issues/21755 */display: inline-block !important;position: relative;}#sk-container-id-1 div.sk-text-repr-fallback {display: none;}</style><div id=\"sk-container-id-1\" class=\"sk-top-container\"><div class=\"sk-text-repr-fallback\"><pre>LogisticRegression()</pre><b>In a Jupyter environment, please rerun this cell to show the HTML representation or trust the notebook. <br />On GitHub, the HTML representation is unable to render, please try loading this page with nbviewer.org.</b></div><div class=\"sk-container\" hidden><div class=\"sk-item\"><div class=\"sk-estimator sk-toggleable\"><input class=\"sk-toggleable__control sk-hidden--visually\" id=\"sk-estimator-id-1\" type=\"checkbox\" checked><label for=\"sk-estimator-id-1\" class=\"sk-toggleable__label sk-toggleable__label-arrow\">LogisticRegression</label><div class=\"sk-toggleable__content\"><pre>LogisticRegression()</pre></div></div></div></div></div>"
      ],
      "text/plain": [
       "LogisticRegression()"
      ]
     },
     "execution_count": 51,
     "metadata": {},
     "output_type": "execute_result"
    }
   ],
   "source": [
    "from sklearn.linear_model import LogisticRegression\n",
    "\n",
    "# Initialize the model\n",
    "logreg = LogisticRegression()\n",
    "\n",
    "# Fit the model to the training data\n",
    "logreg.fit(X_train, y_train)"
   ]
  },
  {
   "cell_type": "code",
   "execution_count": 52,
   "metadata": {},
   "outputs": [],
   "source": [
    "# Make predictions on the testing set\n",
    "y_pred = logreg.predict(X_test)\n",
    "\n"
   ]
  },
  {
   "cell_type": "code",
   "execution_count": 53,
   "metadata": {},
   "outputs": [
    {
     "name": "stdout",
     "output_type": "stream",
     "text": [
      "Accuracy: 0.83\n"
     ]
    }
   ],
   "source": [
    "from sklearn.metrics import accuracy_score\n",
    "\n",
    "# Compute the accuracy of the model's predictions\n",
    "accuracy = accuracy_score(y_test, y_pred)\n",
    "print(f\"Accuracy: {accuracy:.2f}\")"
   ]
  }
 ],
 "metadata": {
  "colab": {
   "provenance": []
  },
  "kernelspec": {
   "display_name": "Python 3 (ipykernel)",
   "language": "python",
   "name": "python3"
  },
  "language_info": {
   "codemirror_mode": {
    "name": "ipython",
    "version": 3
   },
   "file_extension": ".py",
   "mimetype": "text/x-python",
   "name": "python",
   "nbconvert_exporter": "python",
   "pygments_lexer": "ipython3",
   "version": "3.10.6"
  }
 },
 "nbformat": 4,
 "nbformat_minor": 1
}
