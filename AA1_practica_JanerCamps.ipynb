{
 "cells": [
  {
   "cell_type": "markdown",
   "metadata": {
    "id": "4X1a2rkiAgHQ"
   },
   "source": [
    "# **AA1 Project** \n",
    "\n",
    "## Modeling delays in the air\n",
    "\n",
    "In order to predict whether a flight is likely to be delayed or not, create a ML model that will make predictions with that aim. \n",
    "\n",
    "First of all. Let's observe our data set and some first insights. "
   ]
  },
  {
   "cell_type": "code",
   "execution_count": 36,
   "metadata": {
    "id": "9WFwwT0G--Vb"
   },
   "outputs": [],
   "source": [
    "import pandas as pd\n",
    "import numpy as np\n",
    "from sklearn.preprocessing import StandardScaler"
   ]
  },
  {
   "cell_type": "code",
   "execution_count": 37,
   "metadata": {
    "colab": {
     "base_uri": "https://localhost:8080/"
    },
    "id": "G4naEd9v_gWI",
    "outputId": "f9312b58-6257-40ee-aac4-dd514d576d82"
   },
   "outputs": [],
   "source": [
    "airports = pd.read_csv('airports.csv')"
   ]
  },
  {
   "cell_type": "code",
   "execution_count": 38,
   "metadata": {},
   "outputs": [
    {
     "name": "stderr",
     "output_type": "stream",
     "text": [
      "C:\\Users\\marcj\\AppData\\Local\\Temp\\ipykernel_9596\\2521083823.py:1: DtypeWarning: Columns (7,8) have mixed types. Specify dtype option on import or set low_memory=False.\n",
      "  flights = pd.read_csv('flights.csv')\n"
     ]
    }
   ],
   "source": [
    "flights = pd.read_csv('flights.csv')\n",
    "flights = flights.sample(frac=0.03, random_state=42)"
   ]
  },
  {
   "cell_type": "markdown",
   "metadata": {
    "id": "CsI8BfIVAdal"
   },
   "source": [
    "As we can se with the `describe` method, we can observe the range where each feature takes values at more or less. It is also interesting to observe the histograms of the different columns to see how each feature is distributed more or less, to get an intuition of our data. "
   ]
  },
  {
   "cell_type": "code",
   "execution_count": 39,
   "metadata": {
    "colab": {
     "base_uri": "https://localhost:8080/"
    },
    "id": "iPpTWsflkzBe",
    "outputId": "741153f1-1442-423e-8333-4d04c9bc220b"
   },
   "outputs": [
    {
     "name": "stdout",
     "output_type": "stream",
     "text": [
      "14400\n"
     ]
    }
   ],
   "source": [
    "count = 0\n",
    "for airport in flights[\"ORIGIN_AIRPORT\"]:\n",
    "    if str(airport).isnumeric():\n",
    "      count += 1\n",
    "print(count)"
   ]
  },
  {
   "cell_type": "code",
   "execution_count": 40,
   "metadata": {
    "colab": {
     "base_uri": "https://localhost:8080/",
     "height": 300
    },
    "id": "WMan5A-f_l5x",
    "outputId": "5e0b5489-d212-4929-cf12-18f77639fec4"
   },
   "outputs": [
    {
     "data": {
      "text/html": [
       "<div>\n",
       "<style scoped>\n",
       "    .dataframe tbody tr th:only-of-type {\n",
       "        vertical-align: middle;\n",
       "    }\n",
       "\n",
       "    .dataframe tbody tr th {\n",
       "        vertical-align: top;\n",
       "    }\n",
       "\n",
       "    .dataframe thead th {\n",
       "        text-align: right;\n",
       "    }\n",
       "</style>\n",
       "<table border=\"1\" class=\"dataframe\">\n",
       "  <thead>\n",
       "    <tr style=\"text-align: right;\">\n",
       "      <th></th>\n",
       "      <th>LATITUDE</th>\n",
       "      <th>LONGITUDE</th>\n",
       "    </tr>\n",
       "  </thead>\n",
       "  <tbody>\n",
       "    <tr>\n",
       "      <th>count</th>\n",
       "      <td>319.000000</td>\n",
       "      <td>319.000000</td>\n",
       "    </tr>\n",
       "    <tr>\n",
       "      <th>mean</th>\n",
       "      <td>38.981244</td>\n",
       "      <td>-98.378964</td>\n",
       "    </tr>\n",
       "    <tr>\n",
       "      <th>std</th>\n",
       "      <td>8.616736</td>\n",
       "      <td>21.523492</td>\n",
       "    </tr>\n",
       "    <tr>\n",
       "      <th>min</th>\n",
       "      <td>13.483450</td>\n",
       "      <td>-176.646030</td>\n",
       "    </tr>\n",
       "    <tr>\n",
       "      <th>25%</th>\n",
       "      <td>33.652040</td>\n",
       "      <td>-110.839385</td>\n",
       "    </tr>\n",
       "    <tr>\n",
       "      <th>50%</th>\n",
       "      <td>39.297610</td>\n",
       "      <td>-93.403070</td>\n",
       "    </tr>\n",
       "    <tr>\n",
       "      <th>75%</th>\n",
       "      <td>43.154675</td>\n",
       "      <td>-82.722995</td>\n",
       "    </tr>\n",
       "    <tr>\n",
       "      <th>max</th>\n",
       "      <td>71.285450</td>\n",
       "      <td>-64.798560</td>\n",
       "    </tr>\n",
       "  </tbody>\n",
       "</table>\n",
       "</div>"
      ],
      "text/plain": [
       "         LATITUDE   LONGITUDE\n",
       "count  319.000000  319.000000\n",
       "mean    38.981244  -98.378964\n",
       "std      8.616736   21.523492\n",
       "min     13.483450 -176.646030\n",
       "25%     33.652040 -110.839385\n",
       "50%     39.297610  -93.403070\n",
       "75%     43.154675  -82.722995\n",
       "max     71.285450  -64.798560"
      ]
     },
     "execution_count": 40,
     "metadata": {},
     "output_type": "execute_result"
    }
   ],
   "source": [
    "flights.describe()\n",
    "airports.describe()"
   ]
  },
  {
   "cell_type": "code",
   "execution_count": 41,
   "metadata": {},
   "outputs": [
    {
     "data": {
      "text/plain": [
       "array([[<AxesSubplot:title={'center':'YEAR'}>,\n",
       "        <AxesSubplot:title={'center':'MONTH'}>,\n",
       "        <AxesSubplot:title={'center':'DAY'}>,\n",
       "        <AxesSubplot:title={'center':'DAY_OF_WEEK'}>,\n",
       "        <AxesSubplot:title={'center':'FLIGHT_NUMBER'}>],\n",
       "       [<AxesSubplot:title={'center':'SCHEDULED_DEPARTURE'}>,\n",
       "        <AxesSubplot:title={'center':'DEPARTURE_TIME'}>,\n",
       "        <AxesSubplot:title={'center':'DEPARTURE_DELAY'}>,\n",
       "        <AxesSubplot:title={'center':'TAXI_OUT'}>,\n",
       "        <AxesSubplot:title={'center':'WHEELS_OFF'}>],\n",
       "       [<AxesSubplot:title={'center':'SCHEDULED_TIME'}>,\n",
       "        <AxesSubplot:title={'center':'ELAPSED_TIME'}>,\n",
       "        <AxesSubplot:title={'center':'AIR_TIME'}>,\n",
       "        <AxesSubplot:title={'center':'DISTANCE'}>,\n",
       "        <AxesSubplot:title={'center':'WHEELS_ON'}>],\n",
       "       [<AxesSubplot:title={'center':'TAXI_IN'}>,\n",
       "        <AxesSubplot:title={'center':'SCHEDULED_ARRIVAL'}>,\n",
       "        <AxesSubplot:title={'center':'ARRIVAL_TIME'}>,\n",
       "        <AxesSubplot:title={'center':'ARRIVAL_DELAY'}>,\n",
       "        <AxesSubplot:title={'center':'DIVERTED'}>],\n",
       "       [<AxesSubplot:title={'center':'CANCELLED'}>,\n",
       "        <AxesSubplot:title={'center':'AIR_SYSTEM_DELAY'}>,\n",
       "        <AxesSubplot:title={'center':'SECURITY_DELAY'}>,\n",
       "        <AxesSubplot:title={'center':'AIRLINE_DELAY'}>,\n",
       "        <AxesSubplot:title={'center':'LATE_AIRCRAFT_DELAY'}>],\n",
       "       [<AxesSubplot:title={'center':'WEATHER_DELAY'}>, <AxesSubplot:>,\n",
       "        <AxesSubplot:>, <AxesSubplot:>, <AxesSubplot:>]], dtype=object)"
      ]
     },
     "execution_count": 41,
     "metadata": {},
     "output_type": "execute_result"
    },
    {
     "data": {
      "image/png": "[encoded data removed]",
      "text/plain": [
       "<Figure size 432x288 with 30 Axes>"
      ]
     },
     "metadata": {
      "needs_background": "light"
     },
     "output_type": "display_data"
    }
   ],
   "source": [
    "flights.hist()"
   ]
  },
  {
   "cell_type": "markdown",
   "metadata": {
    "id": "owSaZFCZ3-V2"
   },
   "source": [
    "## 1. Data cleaning\n",
    "### Nextly we will portray the schedule that we are going to follow. \n",
    "1. Check for duplicates: Check for and remove any duplicate rows in your dataset.\n",
    "\n",
    "2. Handle missing data: Identify any missing data and decide how to handle it. You can either remove the rows or fill in the missing data.\n",
    "\n",
    "3. Check for inconsistent data: Check for any inconsistent or erroneous data, such as values that are out of range or inconsistent with other data in the same row.\n",
    "\n",
    "4. Handle categorical data: If you have categorical data, decide how to handle it. One common approach is to use one-hot encoding.\n",
    "\n",
    "5. Normalize data: Normalize your data so that the features have similar ranges. This will prevent features with large ranges from dominating the model.\n",
    "\n",
    "6. Feature selection: Select the most relevant features for your model. You can use various techniques such as correlation analysis or principal component analysis (PCA).\n",
    "\n",
    "7. Train-test split: Finally, split your data into training and testing sets to evaluate the performance of your machine learning model."
   ]
  },
  {
   "cell_type": "markdown",
   "metadata": {
    "id": "H9qgdnb740x-"
   },
   "source": [
    "### 1.1 Check for duplicates\n",
    "We firstly see that there are no duplicate samples with the following piece of code.\n"
   ]
  },
  {
   "cell_type": "code",
   "execution_count": 42,
   "metadata": {
    "colab": {
     "base_uri": "https://localhost:8080/"
    },
    "id": "jSrzDv455MWf",
    "outputId": "ffa33860-4374-4db7-ea5a-98cca5564064"
   },
   "outputs": [
    {
     "data": {
      "text/plain": [
       "0"
      ]
     },
     "execution_count": 42,
     "metadata": {},
     "output_type": "execute_result"
    }
   ],
   "source": [
    "# Check for duplicates\n",
    "duplicates = flights.duplicated()\n",
    "\n",
    "# Print the duplicate rows\n",
    "len(flights[duplicates])"
   ]
  },
  {
   "cell_type": "markdown",
   "metadata": {
    "id": "XeODOfOB5pNx"
   },
   "source": [
    "###1.2 Handle missing data\n",
    "In this section we have a bunch of different possibilities in order to approach the problem of missing data. \n",
    "1. Remove missing data: if the quantity of missing data is not that significative, maybe it is a good option to consider removing all those samples that contain `NaN` values since the subset of samples that is going to be deleted may not be significant while training the model. \n",
    "\n"
   ]
  },
  {
   "cell_type": "code",
   "execution_count": 43,
   "metadata": {
    "colab": {
     "base_uri": "https://localhost:8080/"
    },
    "id": "6W0tqcTO6hYt",
    "outputId": "9afbcca0-8c45-4053-d09b-209047d794f2"
   },
   "outputs": [
    {
     "name": "stdout",
     "output_type": "stream",
     "text": [
      "YEAR                        0\n",
      "MONTH                       0\n",
      "DAY                         0\n",
      "DAY_OF_WEEK                 0\n",
      "AIRLINE                     0\n",
      "FLIGHT_NUMBER               0\n",
      "TAIL_NUMBER               419\n",
      "ORIGIN_AIRPORT              0\n",
      "DESTINATION_AIRPORT         0\n",
      "SCHEDULED_DEPARTURE         0\n",
      "DEPARTURE_TIME           2536\n",
      "DEPARTURE_DELAY          2536\n",
      "TAXI_OUT                 2624\n",
      "WHEELS_OFF               2624\n",
      "SCHEDULED_TIME              0\n",
      "ELAPSED_TIME             3080\n",
      "AIR_TIME                 3080\n",
      "DISTANCE                    0\n",
      "WHEELS_ON                2731\n",
      "TAXI_IN                  2731\n",
      "SCHEDULED_ARRIVAL           0\n",
      "ARRIVAL_TIME             2731\n",
      "ARRIVAL_DELAY            3080\n",
      "DIVERTED                    0\n",
      "CANCELLED                   0\n",
      "CANCELLATION_REASON    171920\n",
      "AIR_SYSTEM_DELAY       142686\n",
      "SECURITY_DELAY         142686\n",
      "AIRLINE_DELAY          142686\n",
      "LATE_AIRCRAFT_DELAY    142686\n",
      "WEATHER_DELAY          142686\n",
      "dtype: int64\n"
     ]
    }
   ],
   "source": [
    "# Count the number of NaN values in each column\n",
    "nan_counts = flights.isna().sum()\n",
    "# Print the results\n",
    "print(nan_counts)"
   ]
  },
  {
   "cell_type": "markdown",
   "metadata": {
    "id": "HwRj6Uih68dv"
   },
   "source": [
    "From the previous output we see that the last 6 features are almost useless since the majority of the samples do not have any information of those, therefore we are going to `drop`. A part from that, we also need to delete columns that regard information that is not going to be available (a posteriori information from the flight) such as information of the time elapsed during time"
   ]
  },
  {
   "cell_type": "code",
   "execution_count": 44,
   "metadata": {
    "id": "g28GIbss7vHi"
   },
   "outputs": [],
   "source": [
    "cols_of_interest = ['ARRIVAL_DELAY','MONTH', 'DAY' ,'DAY_OF_WEEK', 'AIRLINE', 'ORIGIN_AIRPORT', 'DESTINATION_AIRPORT', 'SCHEDULED_ARRIVAL', 'DEPARTURE_TIME', 'DEPARTURE_DELAY', 'TAXI_OUT', 'WHEELS_OFF', 'SCHEDULED_TIME', 'DISTANCE']\n",
    "flights = flights[cols_of_interest]"
   ]
  },
  {
   "cell_type": "code",
   "execution_count": 45,
   "metadata": {
    "colab": {
     "base_uri": "https://localhost:8080/",
     "height": 300
    },
    "id": "jczIDNTZOJpP",
    "outputId": "2b732e2a-8915-470d-c24e-922daa387018"
   },
   "outputs": [
    {
     "data": {
      "text/html": [
       "<div>\n",
       "<style scoped>\n",
       "    .dataframe tbody tr th:only-of-type {\n",
       "        vertical-align: middle;\n",
       "    }\n",
       "\n",
       "    .dataframe tbody tr th {\n",
       "        vertical-align: top;\n",
       "    }\n",
       "\n",
       "    .dataframe thead th {\n",
       "        text-align: right;\n",
       "    }\n",
       "</style>\n",
       "<table border=\"1\" class=\"dataframe\">\n",
       "  <thead>\n",
       "    <tr style=\"text-align: right;\">\n",
       "      <th></th>\n",
       "      <th>ARRIVAL_DELAY</th>\n",
       "      <th>MONTH</th>\n",
       "      <th>DAY</th>\n",
       "      <th>DAY_OF_WEEK</th>\n",
       "      <th>SCHEDULED_ARRIVAL</th>\n",
       "      <th>DEPARTURE_TIME</th>\n",
       "      <th>DEPARTURE_DELAY</th>\n",
       "      <th>TAXI_OUT</th>\n",
       "      <th>WHEELS_OFF</th>\n",
       "      <th>SCHEDULED_TIME</th>\n",
       "      <th>DISTANCE</th>\n",
       "    </tr>\n",
       "  </thead>\n",
       "  <tbody>\n",
       "    <tr>\n",
       "      <th>count</th>\n",
       "      <td>171492.000000</td>\n",
       "      <td>174572.000000</td>\n",
       "      <td>174572.000000</td>\n",
       "      <td>174572.000000</td>\n",
       "      <td>174572.000000</td>\n",
       "      <td>172036.000000</td>\n",
       "      <td>172036.000000</td>\n",
       "      <td>171948.000000</td>\n",
       "      <td>171948.000000</td>\n",
       "      <td>174572.000000</td>\n",
       "      <td>174572.000000</td>\n",
       "    </tr>\n",
       "    <tr>\n",
       "      <th>mean</th>\n",
       "      <td>4.429478</td>\n",
       "      <td>6.516675</td>\n",
       "      <td>15.712669</td>\n",
       "      <td>3.914070</td>\n",
       "      <td>1492.253380</td>\n",
       "      <td>1334.163460</td>\n",
       "      <td>9.395440</td>\n",
       "      <td>16.028549</td>\n",
       "      <td>1356.140758</td>\n",
       "      <td>141.771813</td>\n",
       "      <td>822.983205</td>\n",
       "    </tr>\n",
       "    <tr>\n",
       "      <th>std</th>\n",
       "      <td>39.640996</td>\n",
       "      <td>3.407085</td>\n",
       "      <td>8.779087</td>\n",
       "      <td>1.987525</td>\n",
       "      <td>507.999106</td>\n",
       "      <td>495.872777</td>\n",
       "      <td>37.408139</td>\n",
       "      <td>8.854021</td>\n",
       "      <td>497.426400</td>\n",
       "      <td>75.278670</td>\n",
       "      <td>607.810642</td>\n",
       "    </tr>\n",
       "    <tr>\n",
       "      <th>min</th>\n",
       "      <td>-71.000000</td>\n",
       "      <td>1.000000</td>\n",
       "      <td>1.000000</td>\n",
       "      <td>1.000000</td>\n",
       "      <td>1.000000</td>\n",
       "      <td>1.000000</td>\n",
       "      <td>-38.000000</td>\n",
       "      <td>1.000000</td>\n",
       "      <td>1.000000</td>\n",
       "      <td>18.000000</td>\n",
       "      <td>31.000000</td>\n",
       "    </tr>\n",
       "    <tr>\n",
       "      <th>25%</th>\n",
       "      <td>-13.000000</td>\n",
       "      <td>4.000000</td>\n",
       "      <td>8.000000</td>\n",
       "      <td>2.000000</td>\n",
       "      <td>1109.000000</td>\n",
       "      <td>920.000000</td>\n",
       "      <td>-5.000000</td>\n",
       "      <td>11.000000</td>\n",
       "      <td>934.000000</td>\n",
       "      <td>85.000000</td>\n",
       "      <td>373.000000</td>\n",
       "    </tr>\n",
       "    <tr>\n",
       "      <th>50%</th>\n",
       "      <td>-5.000000</td>\n",
       "      <td>7.000000</td>\n",
       "      <td>16.000000</td>\n",
       "      <td>4.000000</td>\n",
       "      <td>1519.000000</td>\n",
       "      <td>1329.000000</td>\n",
       "      <td>-2.000000</td>\n",
       "      <td>14.000000</td>\n",
       "      <td>1342.000000</td>\n",
       "      <td>123.000000</td>\n",
       "      <td>647.000000</td>\n",
       "    </tr>\n",
       "    <tr>\n",
       "      <th>75%</th>\n",
       "      <td>8.000000</td>\n",
       "      <td>9.000000</td>\n",
       "      <td>23.000000</td>\n",
       "      <td>6.000000</td>\n",
       "      <td>1917.000000</td>\n",
       "      <td>1739.000000</td>\n",
       "      <td>7.000000</td>\n",
       "      <td>19.000000</td>\n",
       "      <td>1753.000000</td>\n",
       "      <td>174.000000</td>\n",
       "      <td>1065.000000</td>\n",
       "    </tr>\n",
       "    <tr>\n",
       "      <th>max</th>\n",
       "      <td>1557.000000</td>\n",
       "      <td>12.000000</td>\n",
       "      <td>31.000000</td>\n",
       "      <td>7.000000</td>\n",
       "      <td>2359.000000</td>\n",
       "      <td>2400.000000</td>\n",
       "      <td>1576.000000</td>\n",
       "      <td>225.000000</td>\n",
       "      <td>2400.000000</td>\n",
       "      <td>680.000000</td>\n",
       "      <td>4983.000000</td>\n",
       "    </tr>\n",
       "  </tbody>\n",
       "</table>\n",
       "</div>"
      ],
      "text/plain": [
       "       ARRIVAL_DELAY          MONTH            DAY    DAY_OF_WEEK  \\\n",
       "count  171492.000000  174572.000000  174572.000000  174572.000000   \n",
       "mean        4.429478       6.516675      15.712669       3.914070   \n",
       "std        39.640996       3.407085       8.779087       1.987525   \n",
       "min       -71.000000       1.000000       1.000000       1.000000   \n",
       "25%       -13.000000       4.000000       8.000000       2.000000   \n",
       "50%        -5.000000       7.000000      16.000000       4.000000   \n",
       "75%         8.000000       9.000000      23.000000       6.000000   \n",
       "max      1557.000000      12.000000      31.000000       7.000000   \n",
       "\n",
       "       SCHEDULED_ARRIVAL  DEPARTURE_TIME  DEPARTURE_DELAY       TAXI_OUT  \\\n",
       "count      174572.000000   172036.000000    172036.000000  171948.000000   \n",
       "mean         1492.253380     1334.163460         9.395440      16.028549   \n",
       "std           507.999106      495.872777        37.408139       8.854021   \n",
       "min             1.000000        1.000000       -38.000000       1.000000   \n",
       "25%          1109.000000      920.000000        -5.000000      11.000000   \n",
       "50%          1519.000000     1329.000000        -2.000000      14.000000   \n",
       "75%          1917.000000     1739.000000         7.000000      19.000000   \n",
       "max          2359.000000     2400.000000      1576.000000     225.000000   \n",
       "\n",
       "          WHEELS_OFF  SCHEDULED_TIME       DISTANCE  \n",
       "count  171948.000000   174572.000000  174572.000000  \n",
       "mean     1356.140758      141.771813     822.983205  \n",
       "std       497.426400       75.278670     607.810642  \n",
       "min         1.000000       18.000000      31.000000  \n",
       "25%       934.000000       85.000000     373.000000  \n",
       "50%      1342.000000      123.000000     647.000000  \n",
       "75%      1753.000000      174.000000    1065.000000  \n",
       "max      2400.000000      680.000000    4983.000000  "
      ]
     },
     "execution_count": 45,
     "metadata": {},
     "output_type": "execute_result"
    }
   ],
   "source": [
    "flights.describe()"
   ]
  },
  {
   "cell_type": "markdown",
   "metadata": {
    "id": "jV9TeZHT83xS"
   },
   "source": [
    "Once we've deleted those columns we can say that **maybe** and only **maybe** taking into account that we have more than 5M samples, deleting the other samples that contain at least one `NaN` value, may be reasonable. \n",
    "\n",
    "**CHECK WHETHER THIS IS REASONABLE**"
   ]
  },
  {
   "cell_type": "code",
   "execution_count": 46,
   "metadata": {
    "colab": {
     "base_uri": "https://localhost:8080/"
    },
    "id": "e82megy49YCh",
    "outputId": "c945bf9d-9c1f-4cd4-ad6b-2a5638b92934"
   },
   "outputs": [
    {
     "name": "stdout",
     "output_type": "stream",
     "text": [
      "174572 171492\n"
     ]
    }
   ],
   "source": [
    "l_bef = len(flights)\n",
    "flights = flights.dropna(how='any')\n",
    "l_aft = len(flights)\n",
    "print(l_bef, l_aft)"
   ]
  },
  {
   "cell_type": "markdown",
   "metadata": {
    "id": "FZ0KSQzZ-D3g"
   },
   "source": [
    "We pass from $5819079$ to $5714008$ samples. In other words, we keep the $98.2\\%$ of the samples, so it may be a good option to work with these new subset of samples that still contain a vast quantity of information.   "
   ]
  },
  {
   "cell_type": "markdown",
   "metadata": {
    "id": "9LO35Qxc-pB3"
   },
   "source": [
    "### 1.3 Check for inconsistent data\n",
    "In order to do so, we firstly observe an overview of our data. \n"
   ]
  },
  {
   "cell_type": "code",
   "execution_count": 47,
   "metadata": {
    "colab": {
     "base_uri": "https://localhost:8080/",
     "height": 300
    },
    "id": "c3TuA6Cx_x5G",
    "outputId": "8b9139e8-da40-4805-efdf-01dec510440f"
   },
   "outputs": [
    {
     "data": {
      "text/html": [
       "<div>\n",
       "<style scoped>\n",
       "    .dataframe tbody tr th:only-of-type {\n",
       "        vertical-align: middle;\n",
       "    }\n",
       "\n",
       "    .dataframe tbody tr th {\n",
       "        vertical-align: top;\n",
       "    }\n",
       "\n",
       "    .dataframe thead th {\n",
       "        text-align: right;\n",
       "    }\n",
       "</style>\n",
       "<table border=\"1\" class=\"dataframe\">\n",
       "  <thead>\n",
       "    <tr style=\"text-align: right;\">\n",
       "      <th></th>\n",
       "      <th>ARRIVAL_DELAY</th>\n",
       "      <th>MONTH</th>\n",
       "      <th>DAY</th>\n",
       "      <th>DAY_OF_WEEK</th>\n",
       "      <th>SCHEDULED_ARRIVAL</th>\n",
       "      <th>DEPARTURE_TIME</th>\n",
       "      <th>DEPARTURE_DELAY</th>\n",
       "      <th>TAXI_OUT</th>\n",
       "      <th>WHEELS_OFF</th>\n",
       "      <th>SCHEDULED_TIME</th>\n",
       "      <th>DISTANCE</th>\n",
       "    </tr>\n",
       "  </thead>\n",
       "  <tbody>\n",
       "    <tr>\n",
       "      <th>count</th>\n",
       "      <td>171492.000000</td>\n",
       "      <td>171492.000000</td>\n",
       "      <td>171492.000000</td>\n",
       "      <td>171492.000000</td>\n",
       "      <td>171492.000000</td>\n",
       "      <td>171492.000000</td>\n",
       "      <td>171492.000000</td>\n",
       "      <td>171492.000000</td>\n",
       "      <td>171492.000000</td>\n",
       "      <td>171492.000000</td>\n",
       "      <td>171492.000000</td>\n",
       "    </tr>\n",
       "    <tr>\n",
       "      <th>mean</th>\n",
       "      <td>4.429478</td>\n",
       "      <td>6.539804</td>\n",
       "      <td>15.711526</td>\n",
       "      <td>3.919757</td>\n",
       "      <td>1491.471270</td>\n",
       "      <td>1334.140706</td>\n",
       "      <td>9.344284</td>\n",
       "      <td>16.024229</td>\n",
       "      <td>1356.186440</td>\n",
       "      <td>141.977136</td>\n",
       "      <td>825.122933</td>\n",
       "    </tr>\n",
       "    <tr>\n",
       "      <th>std</th>\n",
       "      <td>39.640996</td>\n",
       "      <td>3.399039</td>\n",
       "      <td>8.770848</td>\n",
       "      <td>1.984597</td>\n",
       "      <td>507.853364</td>\n",
       "      <td>495.869672</td>\n",
       "      <td>37.323754</td>\n",
       "      <td>8.846293</td>\n",
       "      <td>497.416444</td>\n",
       "      <td>75.387740</td>\n",
       "      <td>608.792413</td>\n",
       "    </tr>\n",
       "    <tr>\n",
       "      <th>min</th>\n",
       "      <td>-71.000000</td>\n",
       "      <td>1.000000</td>\n",
       "      <td>1.000000</td>\n",
       "      <td>1.000000</td>\n",
       "      <td>1.000000</td>\n",
       "      <td>1.000000</td>\n",
       "      <td>-38.000000</td>\n",
       "      <td>1.000000</td>\n",
       "      <td>1.000000</td>\n",
       "      <td>18.000000</td>\n",
       "      <td>31.000000</td>\n",
       "    </tr>\n",
       "    <tr>\n",
       "      <th>25%</th>\n",
       "      <td>-13.000000</td>\n",
       "      <td>4.000000</td>\n",
       "      <td>8.000000</td>\n",
       "      <td>2.000000</td>\n",
       "      <td>1109.000000</td>\n",
       "      <td>920.000000</td>\n",
       "      <td>-5.000000</td>\n",
       "      <td>11.000000</td>\n",
       "      <td>934.750000</td>\n",
       "      <td>86.000000</td>\n",
       "      <td>373.000000</td>\n",
       "    </tr>\n",
       "    <tr>\n",
       "      <th>50%</th>\n",
       "      <td>-5.000000</td>\n",
       "      <td>7.000000</td>\n",
       "      <td>16.000000</td>\n",
       "      <td>4.000000</td>\n",
       "      <td>1518.000000</td>\n",
       "      <td>1329.000000</td>\n",
       "      <td>-2.000000</td>\n",
       "      <td>14.000000</td>\n",
       "      <td>1342.000000</td>\n",
       "      <td>123.000000</td>\n",
       "      <td>649.000000</td>\n",
       "    </tr>\n",
       "    <tr>\n",
       "      <th>75%</th>\n",
       "      <td>8.000000</td>\n",
       "      <td>9.000000</td>\n",
       "      <td>23.000000</td>\n",
       "      <td>6.000000</td>\n",
       "      <td>1916.000000</td>\n",
       "      <td>1739.000000</td>\n",
       "      <td>7.000000</td>\n",
       "      <td>19.000000</td>\n",
       "      <td>1753.000000</td>\n",
       "      <td>174.000000</td>\n",
       "      <td>1067.000000</td>\n",
       "    </tr>\n",
       "    <tr>\n",
       "      <th>max</th>\n",
       "      <td>1557.000000</td>\n",
       "      <td>12.000000</td>\n",
       "      <td>31.000000</td>\n",
       "      <td>7.000000</td>\n",
       "      <td>2359.000000</td>\n",
       "      <td>2400.000000</td>\n",
       "      <td>1576.000000</td>\n",
       "      <td>225.000000</td>\n",
       "      <td>2400.000000</td>\n",
       "      <td>680.000000</td>\n",
       "      <td>4983.000000</td>\n",
       "    </tr>\n",
       "  </tbody>\n",
       "</table>\n",
       "</div>"
      ],
      "text/plain": [
       "       ARRIVAL_DELAY          MONTH            DAY    DAY_OF_WEEK  \\\n",
       "count  171492.000000  171492.000000  171492.000000  171492.000000   \n",
       "mean        4.429478       6.539804      15.711526       3.919757   \n",
       "std        39.640996       3.399039       8.770848       1.984597   \n",
       "min       -71.000000       1.000000       1.000000       1.000000   \n",
       "25%       -13.000000       4.000000       8.000000       2.000000   \n",
       "50%        -5.000000       7.000000      16.000000       4.000000   \n",
       "75%         8.000000       9.000000      23.000000       6.000000   \n",
       "max      1557.000000      12.000000      31.000000       7.000000   \n",
       "\n",
       "       SCHEDULED_ARRIVAL  DEPARTURE_TIME  DEPARTURE_DELAY       TAXI_OUT  \\\n",
       "count      171492.000000   171492.000000    171492.000000  171492.000000   \n",
       "mean         1491.471270     1334.140706         9.344284      16.024229   \n",
       "std           507.853364      495.869672        37.323754       8.846293   \n",
       "min             1.000000        1.000000       -38.000000       1.000000   \n",
       "25%          1109.000000      920.000000        -5.000000      11.000000   \n",
       "50%          1518.000000     1329.000000        -2.000000      14.000000   \n",
       "75%          1916.000000     1739.000000         7.000000      19.000000   \n",
       "max          2359.000000     2400.000000      1576.000000     225.000000   \n",
       "\n",
       "          WHEELS_OFF  SCHEDULED_TIME       DISTANCE  \n",
       "count  171492.000000   171492.000000  171492.000000  \n",
       "mean     1356.186440      141.977136     825.122933  \n",
       "std       497.416444       75.387740     608.792413  \n",
       "min         1.000000       18.000000      31.000000  \n",
       "25%       934.750000       86.000000     373.000000  \n",
       "50%      1342.000000      123.000000     649.000000  \n",
       "75%      1753.000000      174.000000    1067.000000  \n",
       "max      2400.000000      680.000000    4983.000000  "
      ]
     },
     "execution_count": 47,
     "metadata": {},
     "output_type": "execute_result"
    }
   ],
   "source": [
    "flights.describe()\n"
   ]
  },
  {
   "cell_type": "code",
   "execution_count": 48,
   "metadata": {
    "colab": {
     "base_uri": "https://localhost:8080/"
    },
    "id": "lWIhprxNkiCK",
    "outputId": "43978d06-cd15-4dda-b194-33eb6e73d502"
   },
   "outputs": [
    {
     "name": "stdout",
     "output_type": "stream",
     "text": [
      "['DTW' 'SEA' 'DAL' 'HNL' 'ATL' 'TPA' 'PHX' 'LAX' 11292 'BWI' 'SJU' 'SMF'\n",
      " 'BNA' 'CLT' 'CAE' 'MSP' 'DFW' 'SAN' 'OGG' 'OAK' 14107 'DCA' 'BOS' 'HRL'\n",
      " 'MCI' 'SNA' 'ORD' 'MIA' 'RNO' 12451 'SFO' 'SAT' 'IAH' 'SLC' 'LAS' 'DEN'\n",
      " 'PIT' 'ACV' 'DRO' 'GSP' 'RSW' 'ITO' 12266 'LSE' 'OKC' 'DAY' 'EWR' 10299\n",
      " 'PHL' 'HOU' 11298 'MFE' 'FLL' 'MSY' 'IND' 'BZN' 'PSP' 'ASE' 'MEM' 'RDU'\n",
      " 'SBA' 15016 'SJC' 11066 'JAC' 'MCO' 'ROC' 11697 'BOI' 'CLE' 13830 10257\n",
      " 14908 'SDF' 12278 'MKE' 'JFK' 12889 10397 'RDM' 13851 'BRW' 'ALB' 'OMA'\n",
      " 'CRP' 'RIC' 'DHN' 11618 'BUR' 'CVG' 'MDW' 14893 'JAX' 13485 'ABQ' 12402\n",
      " 'CMH' 12264 10721 'PVD' 11433 'KTN' 10154 'LGA' 'PDX' 'LRD' 'SYR' 'PBI'\n",
      " 'ANC' 'BUF' 'RST' 'TUL' 'TUS' 'STL' 'TLH' 'BDL' 'AUS' 'MSN' 11278 13204\n",
      " 14771 'CHS' '13232' 'DSM' '12478' 14869 'AMA' 'LGB' 'GRR' 'IAD' 10874\n",
      " 'ONT' 'LIH' 'PIB' 15370 10980 13303 'GSO' 'MYR' 12478 11057 'BIS' 13930\n",
      " 'CDV' 14679 10713 'MOB' 14576 'KOA' 'TRI' 'CHO' 14843 'LEX' 11447 'MGM'\n",
      " 15919 14057 'ELP' 'IDA' 'MVY' 'EWN' 13487 10140 'COS' 11259 'ISP' 13495\n",
      " 13232 'CLL' '12391' 'LAN' 'SIT' 'SGF' 'EYW' 'ECP' 14524 15304 10792 'MHT'\n",
      " 'HPN' 12892 'LNK' 'MAF' 'FAR' 'ACT' 'PHF' '12953' 'AVL' 'ATW' 14635 'PNS'\n",
      " 13342 'CIU' 'TYR' 12953 'FCA' 13158 'DLH' 15024 'MLU' 14100 'CMI' 'EUG'\n",
      " 'CRW' 10423 12945 'GFK' 'CID' 'AZO' 'MHK' 'GRK' 10693 'LBB' 11630 'LIT'\n",
      " 'VPS' 'FAI' '11298' 12191 12173 14122 'COU' 'SRQ' 'SHV' 'BFL' '13891'\n",
      " 'BTR' 'SPS' 'MDT' 10821 'ORF' 'FNT' 'JAN' 'JMS' 'AEX' 'JNU' 16218 'BGM'\n",
      " 'MLI' '14986' 'FSD' 11042 'HDN' 'AVP' 'ICT' 11274 14831 'FAY' 'SBN' 'STT'\n",
      " 'EKO' 'ABR' 'SAV' '11042' 'BHM' 14027 14633 11884 'CAK' 'EGE' 'SUX' 13871\n",
      " 'GPT' 'ACK' 'PIA' 'YUM' '14107' 'AGS' 'GGG' 'GTF' 12896 'ILM' 'LAW' 14783\n",
      " 'BTV' 'LWS' 'MRY' 14747 '13851' 10529 'AKN' '14674' 'XNA' 12758 'ELM'\n",
      " 11140 14193 'FLG' 14683 14828 'VLD' 'GRB' 11775 'BIL' 'TTN' 'TWF' '12266'\n",
      " 'OTH' 'OAJ' 'FAT' 'GTR' 'GEG' 'ROA' 11537 10781 '12889' 'TYS' 11193\n",
      " '12892' 'EVV' 10994 13198 'SWF' 11481 'HSV' 12884 'PWM' 10158 'FWA' 'DIK'\n",
      " 'SGU' 12898 '10397' 'BQN' '10721' 'JLN' 'SBP' 'PLN' 11995 11097 'ABI'\n",
      " '13930' 'BTM' 11540 12217 12339 'MBS' 11637 '14831' 15376 '13244' 'BPT'\n",
      " 'BLI' 'GJT' 14492 'BRD' 'CHA' 14321 11267 'BMI' 12389 'HIB' 12992 'HLN'\n",
      " '14783' 13377 'MLB' 'BET' 'ISN' 'DBQ' 'GUC' 'TOL' 11638 '13487' '10821'\n",
      " 12448 'STC' '14747' 'ABE' 10561 11823 'VEL' 'SAF' 14730 'RAP' 11977 'LAR'\n",
      " 13296 'PBG' 'LFT' 10208 10800 'TVC' 14570 '10785' '13830' 11778 '11865'\n",
      " '13495' 14689 11315 13577 'CWA' 'APN' 13931 13244 'ACY' 15041 'FSM' 'INL'\n",
      " '11292' 12343 '15304' 'BRO' 'HYS' 'MOT' 14487 'ROW' 'GRI' 'SJT' 10685\n",
      " 12951 'OME' 'BGR' 'WYS' 12954 'CEC' 'PSC' 'PIH' 11986 15412 10747 '15016'\n",
      " 15249 'SPI' 'CPR' 10185 'MFR' 'COD' 'SUN' 14307 'DAB' 11982 13476 13891\n",
      " 'IAG' 'BJI' 'WRG' 'MEI' 'GUM' 11111 'ABY' 13433 13796 11973 '10792' 'PUB'\n",
      " 'LCH' '14771' 'GNV' 'MTJ' 11624 'TXK' 'GCK' 'GCC' 'PAH' 'CSG' '15376'\n",
      " 'RHI' 'IMT' 14489 10434 'PSE' '14307' 'HOB' '10279' 'MSO' '12191' 13029\n",
      " 'YAK' '10713' 11413 12197 '11433' 15411 'SCE' 10157 'BQK' '11618' 'CDC'\n",
      " 15096 '10431' 11109 15323 13061 11617 'ERI' 13422 'ORH' 14709 'CNY' 'LBE'\n",
      " 13264 '12197' '14524' 14952 'RDD' 10849 'SCC' 'ESC' '14869' 14574 11308\n",
      " 10135 '13303' 'STX' '10779' 12323 'DVL' 11423 14108 14588 10431 '11697'\n",
      " 14814 '14262' '11057' 14696 11603 '10257' 10627 10599 14006 'MQT' 11049\n",
      " '11540' '14893' '14635' 11203 10268 'SMX' '12339' 'EAU' 'CLD' '11111'\n",
      " 11612 11003 '14905' 14262 'PSG' 11471 '10693' 13344 12982 '14492' '11259'\n",
      " '11413' 'OTZ' 11996 '11066' 15624 15380 'DLG' '11337' 11252 '11278' 10990\n",
      " 11146 'RKS' 'ADQ' '13204' 13256 '15024' 14698 12156 '14679' '10800' 11721\n",
      " '14570' 10868 14685 '12451' 'MKG' 14457 10146 14794 '14057' '11648' 13184\n",
      " 10170 'PPG' 14252 '12129' '12173' 12206 10469 '14489' 13873 '14683' 10785\n",
      " 'ALO' 10333 14986 '12982' '14730' 'UST' 11067 '13796' 15070 10577 13933\n",
      " 10136 '14908' 10581 12280 13277 15295 14842 11865 '14100' 13230 '14709'\n",
      " 12129 '10135' 15048 12391 'ILG' 10155 '11637' 12819 '14027' 12523 11641\n",
      " '10299' '14098' '12758' 13290 '11423' 'CMX' 15841 '12523' '14843' 14150\n",
      " '10781' 14109 11337 '11603' 12003 '12954' 15389 '12389' '10868' '13367'\n",
      " '11982' 12255 11076 '11203' '10529' 12891 '10140' 14113 12016 'ITH' 12094\n",
      " '13198' 15607 14905 13964 '11150' '12992' '14321' 14520 '12264' '13230'\n",
      " 11921 11150 '15370' 14960 '14814' 12915 10918 'GST' '15249' 10732 '10874'\n",
      " '11996' 10620 '10685' '13486' '10423' 12519 13970 15991 10279 '14574'\n",
      " 10739 11953 '12441' '10754' 10728 14711 13241 '11884' '10136' 13076 12511\n",
      " '10561' 11695 '15070' '13577' 'MMH' 11122 '12278' '14828' 14674 '14487'\n",
      " '12217' 15497 '11193' 12441 15356 14543 11587 '10994' '15096' 13367\n",
      " '15919' 15027 14098 '11638' 11648 10141 '12945' '11986' 10926 15401\n",
      " '11977' '13342' 11905 '14633' '10208' '14122' 14256 11980 11013 '12898'\n",
      " '12323' '11630' '14457' '10620' 12888 10372 '13029' 12007 '11721' 11525\n",
      " '14520' 13795 11867 '12448' 13360 '13296' 13486 '11641' '15624' 10731]\n"
     ]
    }
   ],
   "source": [
    "print(flights[\"DESTINATION_AIRPORT\"].unique())"
   ]
  },
  {
   "cell_type": "code",
   "execution_count": 50,
   "metadata": {},
   "outputs": [
    {
     "data": {
      "text/html": [
       "<div>\n",
       "<style scoped>\n",
       "    .dataframe tbody tr th:only-of-type {\n",
       "        vertical-align: middle;\n",
       "    }\n",
       "\n",
       "    .dataframe tbody tr th {\n",
       "        vertical-align: top;\n",
       "    }\n",
       "\n",
       "    .dataframe thead th {\n",
       "        text-align: right;\n",
       "    }\n",
       "</style>\n",
       "<table border=\"1\" class=\"dataframe\">\n",
       "  <thead>\n",
       "    <tr style=\"text-align: right;\">\n",
       "      <th></th>\n",
       "      <th>ARRIVAL_DELAY</th>\n",
       "      <th>MONTH</th>\n",
       "      <th>DAY</th>\n",
       "      <th>DAY_OF_WEEK</th>\n",
       "      <th>SCHEDULED_ARRIVAL</th>\n",
       "      <th>DEPARTURE_TIME</th>\n",
       "      <th>DEPARTURE_DELAY</th>\n",
       "      <th>TAXI_OUT</th>\n",
       "      <th>WHEELS_OFF</th>\n",
       "      <th>SCHEDULED_TIME</th>\n",
       "      <th>DISTANCE</th>\n",
       "    </tr>\n",
       "  </thead>\n",
       "  <tbody>\n",
       "    <tr>\n",
       "      <th>count</th>\n",
       "      <td>171492.000000</td>\n",
       "      <td>171492.000000</td>\n",
       "      <td>171492.000000</td>\n",
       "      <td>171492.000000</td>\n",
       "      <td>171492.000000</td>\n",
       "      <td>171492.000000</td>\n",
       "      <td>171492.000000</td>\n",
       "      <td>171492.000000</td>\n",
       "      <td>171492.000000</td>\n",
       "      <td>171492.000000</td>\n",
       "      <td>171492.000000</td>\n",
       "    </tr>\n",
       "    <tr>\n",
       "      <th>mean</th>\n",
       "      <td>4.429478</td>\n",
       "      <td>6.539804</td>\n",
       "      <td>15.711526</td>\n",
       "      <td>3.919757</td>\n",
       "      <td>1491.471270</td>\n",
       "      <td>1334.137359</td>\n",
       "      <td>9.344284</td>\n",
       "      <td>16.024229</td>\n",
       "      <td>1356.183571</td>\n",
       "      <td>141.977136</td>\n",
       "      <td>825.122933</td>\n",
       "    </tr>\n",
       "    <tr>\n",
       "      <th>std</th>\n",
       "      <td>39.640996</td>\n",
       "      <td>3.399039</td>\n",
       "      <td>8.770848</td>\n",
       "      <td>1.984597</td>\n",
       "      <td>507.853364</td>\n",
       "      <td>495.862616</td>\n",
       "      <td>37.323754</td>\n",
       "      <td>8.846293</td>\n",
       "      <td>497.410542</td>\n",
       "      <td>75.387740</td>\n",
       "      <td>608.792413</td>\n",
       "    </tr>\n",
       "    <tr>\n",
       "      <th>min</th>\n",
       "      <td>-71.000000</td>\n",
       "      <td>1.000000</td>\n",
       "      <td>1.000000</td>\n",
       "      <td>1.000000</td>\n",
       "      <td>1.000000</td>\n",
       "      <td>1.000000</td>\n",
       "      <td>-38.000000</td>\n",
       "      <td>1.000000</td>\n",
       "      <td>1.000000</td>\n",
       "      <td>18.000000</td>\n",
       "      <td>31.000000</td>\n",
       "    </tr>\n",
       "    <tr>\n",
       "      <th>25%</th>\n",
       "      <td>-13.000000</td>\n",
       "      <td>4.000000</td>\n",
       "      <td>8.000000</td>\n",
       "      <td>2.000000</td>\n",
       "      <td>1109.000000</td>\n",
       "      <td>920.000000</td>\n",
       "      <td>-5.000000</td>\n",
       "      <td>11.000000</td>\n",
       "      <td>934.750000</td>\n",
       "      <td>86.000000</td>\n",
       "      <td>373.000000</td>\n",
       "    </tr>\n",
       "    <tr>\n",
       "      <th>50%</th>\n",
       "      <td>-5.000000</td>\n",
       "      <td>7.000000</td>\n",
       "      <td>16.000000</td>\n",
       "      <td>4.000000</td>\n",
       "      <td>1518.000000</td>\n",
       "      <td>1329.000000</td>\n",
       "      <td>-2.000000</td>\n",
       "      <td>14.000000</td>\n",
       "      <td>1342.000000</td>\n",
       "      <td>123.000000</td>\n",
       "      <td>649.000000</td>\n",
       "    </tr>\n",
       "    <tr>\n",
       "      <th>75%</th>\n",
       "      <td>8.000000</td>\n",
       "      <td>9.000000</td>\n",
       "      <td>23.000000</td>\n",
       "      <td>6.000000</td>\n",
       "      <td>1916.000000</td>\n",
       "      <td>1739.000000</td>\n",
       "      <td>7.000000</td>\n",
       "      <td>19.000000</td>\n",
       "      <td>1753.000000</td>\n",
       "      <td>174.000000</td>\n",
       "      <td>1067.000000</td>\n",
       "    </tr>\n",
       "    <tr>\n",
       "      <th>max</th>\n",
       "      <td>1557.000000</td>\n",
       "      <td>12.000000</td>\n",
       "      <td>31.000000</td>\n",
       "      <td>7.000000</td>\n",
       "      <td>2359.000000</td>\n",
       "      <td>2359.000000</td>\n",
       "      <td>1576.000000</td>\n",
       "      <td>225.000000</td>\n",
       "      <td>2359.000000</td>\n",
       "      <td>680.000000</td>\n",
       "      <td>4983.000000</td>\n",
       "    </tr>\n",
       "  </tbody>\n",
       "</table>\n",
       "</div>"
      ],
      "text/plain": [
       "       ARRIVAL_DELAY          MONTH            DAY    DAY_OF_WEEK  \\\n",
       "count  171492.000000  171492.000000  171492.000000  171492.000000   \n",
       "mean        4.429478       6.539804      15.711526       3.919757   \n",
       "std        39.640996       3.399039       8.770848       1.984597   \n",
       "min       -71.000000       1.000000       1.000000       1.000000   \n",
       "25%       -13.000000       4.000000       8.000000       2.000000   \n",
       "50%        -5.000000       7.000000      16.000000       4.000000   \n",
       "75%         8.000000       9.000000      23.000000       6.000000   \n",
       "max      1557.000000      12.000000      31.000000       7.000000   \n",
       "\n",
       "       SCHEDULED_ARRIVAL  DEPARTURE_TIME  DEPARTURE_DELAY       TAXI_OUT  \\\n",
       "count      171492.000000   171492.000000    171492.000000  171492.000000   \n",
       "mean         1491.471270     1334.137359         9.344284      16.024229   \n",
       "std           507.853364      495.862616        37.323754       8.846293   \n",
       "min             1.000000        1.000000       -38.000000       1.000000   \n",
       "25%          1109.000000      920.000000        -5.000000      11.000000   \n",
       "50%          1518.000000     1329.000000        -2.000000      14.000000   \n",
       "75%          1916.000000     1739.000000         7.000000      19.000000   \n",
       "max          2359.000000     2359.000000      1576.000000     225.000000   \n",
       "\n",
       "          WHEELS_OFF  SCHEDULED_TIME       DISTANCE  \n",
       "count  171492.000000   171492.000000  171492.000000  \n",
       "mean     1356.183571      141.977136     825.122933  \n",
       "std       497.410542       75.387740     608.792413  \n",
       "min         1.000000       18.000000      31.000000  \n",
       "25%       934.750000       86.000000     373.000000  \n",
       "50%      1342.000000      123.000000     649.000000  \n",
       "75%      1753.000000      174.000000    1067.000000  \n",
       "max      2359.000000      680.000000    4983.000000  "
      ]
     },
     "execution_count": 50,
     "metadata": {},
     "output_type": "execute_result"
    }
   ],
   "source": [
    "\n",
    "flights.apply(lambda row: row.set_value(\"WHEELS_OFF\", 2359) if row[\"WHEELS_OFF\"] == 2400 else None, axis=1)\n",
    "flights.apply(lambda row: row.set_value(\"DEPARTURE_TIME\", 2359) if row[\"DEPARTURE_TIME\"] == 2400 else None, axis=1)\n",
    "\n",
    "\n",
    "\n",
    "flights.describe()"
   ]
  },
  {
   "cell_type": "markdown",
   "metadata": {
    "id": "eZraBMwF8Miy"
   },
   "source": [
    "As we can infer from the output of the `decribe()` method, there are no values that are out of range or are non-sense in comparison with other values of the same column. "
   ]
  },
  {
   "cell_type": "code",
   "execution_count": 51,
   "metadata": {},
   "outputs": [],
   "source": [
    "# Delete all of the rows that contain integer values\n",
    "flights = flights[~flights['ORIGIN_AIRPORT'].apply(lambda x: isinstance(x, int))]\n",
    "flights = flights[~flights['DESTINATION_AIRPORT'].apply(lambda x: isinstance(x, int))]\n"
   ]
  },
  {
   "cell_type": "code",
   "execution_count": 52,
   "metadata": {},
   "outputs": [],
   "source": [
    "flights = flights[~flights['ORIGIN_AIRPORT'].apply(lambda x: str(x).isnumeric())]\n",
    "flights = flights[~flights['DESTINATION_AIRPORT'].apply(lambda x: str(x).isnumeric())]"
   ]
  },
  {
   "cell_type": "markdown",
   "metadata": {
    "id": "4ZwbFfyp9k-l"
   },
   "source": [
    "### 1.4 Handle categorical data\n"
   ]
  },
  {
   "cell_type": "code",
   "execution_count": 53,
   "metadata": {
    "colab": {
     "base_uri": "https://localhost:8080/"
    },
    "id": "d4Mmph7r97oo",
    "outputId": "06cdb8d8-d82b-4c83-d198-60705beff9ec"
   },
   "outputs": [
    {
     "name": "stdout",
     "output_type": "stream",
     "text": [
      "ARRIVAL_DELAY float64\n",
      "MONTH int64\n",
      "DAY int64\n",
      "DAY_OF_WEEK int64\n",
      "AIRLINE object\n",
      "ORIGIN_AIRPORT object\n",
      "DESTINATION_AIRPORT object\n",
      "SCHEDULED_ARRIVAL int64\n",
      "DEPARTURE_TIME float64\n",
      "DEPARTURE_DELAY float64\n",
      "TAXI_OUT float64\n",
      "WHEELS_OFF float64\n",
      "SCHEDULED_TIME float64\n",
      "DISTANCE int64\n"
     ]
    }
   ],
   "source": [
    "#Check nature of the columns \n",
    "for col in flights.columns:\n",
    "  print(col, flights[col].dtype)"
   ]
  },
  {
   "cell_type": "markdown",
   "metadata": {
    "id": "QiHh3pHHfwVV"
   },
   "source": [
    "The next thing we want to do after observing the types of every feature is to transform some variables to categorical. To start with, we are going to partition 4 airport areas for the US, so that data is more manageable"
   ]
  },
  {
   "cell_type": "code",
   "execution_count": 54,
   "metadata": {
    "colab": {
     "base_uri": "https://localhost:8080/",
     "height": 381
    },
    "id": "7qiBl0YzhBmX",
    "outputId": "946e44b0-5f07-4969-a137-28ebc8d1e52b"
   },
   "outputs": [],
   "source": [
    "# MONTH treatment\n",
    "\n",
    "flights['Q_YEAR'] = flights['MONTH'].apply(lambda x: (x-1)//4 + 1)"
   ]
  },
  {
   "cell_type": "code",
   "execution_count": 55,
   "metadata": {},
   "outputs": [],
   "source": [
    "# DELAY TREATMENT\n",
    "flights['DELAYED'] = flights['ARRIVAL_DELAY'].apply(lambda x: 1 if x > 0 else 0)"
   ]
  },
  {
   "cell_type": "markdown",
   "metadata": {
    "id": "iy8g04lNBpmY"
   },
   "source": [
    "We observe a huge amount of features which may overfit the model in case of using them all. Therefore we will try to choose an optimal subset of explanatory variables that are going to be able to give our model the enough information in order to do good predictions. \n",
    "\n",
    "**Observation: We cannot follow like this since we need to consider some categorical variables. REMEMBER to one_shot_encode them before going on**"
   ]
  },
  {
   "cell_type": "code",
   "execution_count": 56,
   "metadata": {
    "colab": {
     "base_uri": "https://localhost:8080/",
     "height": 1000
    },
    "id": "uONZFls9ueiW",
    "outputId": "cadec565-7aa7-405b-8a98-f24f4f4e9988"
   },
   "outputs": [],
   "source": [
    "# DAY treatment \n",
    "\n",
    "flights['FORTNIGHT'] = pd.cut(flights['DAY'], bins=[0, 15, 31], labels=[1, 2], include_lowest=True)\n"
   ]
  },
  {
   "cell_type": "code",
   "execution_count": 57,
   "metadata": {},
   "outputs": [],
   "source": [
    "# DAY_OF_WEEK 1 is in-week days, 2 is weekend\n",
    "\n",
    "flights['WEEK_INFO'] = pd.cut(flights['DAY_OF_WEEK'], bins=[1, 5, 7], labels=[1, 2], include_lowest=True)\n"
   ]
  },
  {
   "cell_type": "code",
   "execution_count": 58,
   "metadata": {},
   "outputs": [],
   "source": [
    "# AIRLINE\n",
    "\n",
    "# define the airline categories based on domain knowledge RECordar mirar criteri de cost d'aerolinies !!!!!!!\n",
    "major_airlines = ['DL', 'AA', 'UA', 'US']\n",
    "low_cost_airlines = ['WN', 'NK', 'F9', 'B6', 'VX']\n",
    "regional_airlines = ['EV', 'OO', 'MQ', 'AS', 'HA']\n",
    "\n",
    "# create a new column with the airline category\n",
    "flights['AC'] = 'Other'\n",
    "flights.loc[flights['AIRLINE'].isin(major_airlines), 'AC'] = 'Major'\n",
    "flights.loc[flights['AIRLINE'].isin(low_cost_airlines), 'AC'] = 'Low-Cost'\n",
    "flights.loc[flights['AIRLINE'].isin(regional_airlines), 'AC'] = 'Regional'"
   ]
  },
  {
   "cell_type": "code",
   "execution_count": 59,
   "metadata": {},
   "outputs": [],
   "source": [
    "airports = airports.set_index('IATA_CODE')\n"
   ]
  },
  {
   "cell_type": "code",
   "execution_count": 66,
   "metadata": {},
   "outputs": [
    {
     "data": {
      "text/html": [
       "<div>\n",
       "<style scoped>\n",
       "    .dataframe tbody tr th:only-of-type {\n",
       "        vertical-align: middle;\n",
       "    }\n",
       "\n",
       "    .dataframe tbody tr th {\n",
       "        vertical-align: top;\n",
       "    }\n",
       "\n",
       "    .dataframe thead th {\n",
       "        text-align: right;\n",
       "    }\n",
       "</style>\n",
       "<table border=\"1\" class=\"dataframe\">\n",
       "  <thead>\n",
       "    <tr style=\"text-align: right;\">\n",
       "      <th></th>\n",
       "      <th>ARRIVAL_DELAY</th>\n",
       "      <th>MONTH</th>\n",
       "      <th>DAY</th>\n",
       "      <th>DAY_OF_WEEK</th>\n",
       "      <th>SCHEDULED_ARRIVAL</th>\n",
       "      <th>DEPARTURE_TIME</th>\n",
       "      <th>DEPARTURE_DELAY</th>\n",
       "      <th>TAXI_OUT</th>\n",
       "      <th>WHEELS_OFF</th>\n",
       "      <th>SCHEDULED_TIME</th>\n",
       "      <th>DISTANCE</th>\n",
       "      <th>Q_YEAR</th>\n",
       "      <th>DELAYED</th>\n",
       "      <th>LONGITUDE_O</th>\n",
       "      <th>LATITUDE_O</th>\n",
       "    </tr>\n",
       "  </thead>\n",
       "  <tbody>\n",
       "    <tr>\n",
       "      <th>count</th>\n",
       "      <td>157200.000000</td>\n",
       "      <td>157200.000000</td>\n",
       "      <td>157200.000000</td>\n",
       "      <td>157200.000000</td>\n",
       "      <td>157200.000000</td>\n",
       "      <td>157200.000000</td>\n",
       "      <td>157200.000000</td>\n",
       "      <td>157200.000000</td>\n",
       "      <td>157200.000000</td>\n",
       "      <td>157200.000000</td>\n",
       "      <td>157200.000000</td>\n",
       "      <td>157200.000000</td>\n",
       "      <td>157200.000000</td>\n",
       "      <td>157078.000000</td>\n",
       "      <td>157078.000000</td>\n",
       "    </tr>\n",
       "    <tr>\n",
       "      <th>mean</th>\n",
       "      <td>4.847118</td>\n",
       "      <td>6.225216</td>\n",
       "      <td>15.697977</td>\n",
       "      <td>3.914466</td>\n",
       "      <td>1491.775999</td>\n",
       "      <td>1335.216826</td>\n",
       "      <td>9.699771</td>\n",
       "      <td>16.036571</td>\n",
       "      <td>1357.141698</td>\n",
       "      <td>142.041177</td>\n",
       "      <td>825.443804</td>\n",
       "      <td>1.915413</td>\n",
       "      <td>0.372010</td>\n",
       "      <td>-95.590451</td>\n",
       "      <td>36.602245</td>\n",
       "    </tr>\n",
       "    <tr>\n",
       "      <th>std</th>\n",
       "      <td>40.031976</td>\n",
       "      <td>3.378811</td>\n",
       "      <td>8.760989</td>\n",
       "      <td>1.989374</td>\n",
       "      <td>508.628687</td>\n",
       "      <td>496.674295</td>\n",
       "      <td>37.715590</td>\n",
       "      <td>8.930382</td>\n",
       "      <td>498.271810</td>\n",
       "      <td>75.369468</td>\n",
       "      <td>608.218666</td>\n",
       "      <td>0.782550</td>\n",
       "      <td>0.483343</td>\n",
       "      <td>18.149212</td>\n",
       "      <td>6.005002</td>\n",
       "    </tr>\n",
       "    <tr>\n",
       "      <th>min</th>\n",
       "      <td>-70.000000</td>\n",
       "      <td>1.000000</td>\n",
       "      <td>1.000000</td>\n",
       "      <td>1.000000</td>\n",
       "      <td>1.000000</td>\n",
       "      <td>1.000000</td>\n",
       "      <td>-38.000000</td>\n",
       "      <td>1.000000</td>\n",
       "      <td>1.000000</td>\n",
       "      <td>18.000000</td>\n",
       "      <td>31.000000</td>\n",
       "      <td>1.000000</td>\n",
       "      <td>0.000000</td>\n",
       "      <td>-176.646030</td>\n",
       "      <td>13.483450</td>\n",
       "    </tr>\n",
       "    <tr>\n",
       "      <th>25%</th>\n",
       "      <td>-13.000000</td>\n",
       "      <td>3.000000</td>\n",
       "      <td>8.000000</td>\n",
       "      <td>2.000000</td>\n",
       "      <td>1109.000000</td>\n",
       "      <td>920.000000</td>\n",
       "      <td>-5.000000</td>\n",
       "      <td>11.000000</td>\n",
       "      <td>935.000000</td>\n",
       "      <td>86.000000</td>\n",
       "      <td>373.000000</td>\n",
       "      <td>1.000000</td>\n",
       "      <td>0.000000</td>\n",
       "      <td>-111.977770</td>\n",
       "      <td>32.895950</td>\n",
       "    </tr>\n",
       "    <tr>\n",
       "      <th>50%</th>\n",
       "      <td>-5.000000</td>\n",
       "      <td>6.000000</td>\n",
       "      <td>16.000000</td>\n",
       "      <td>4.000000</td>\n",
       "      <td>1519.000000</td>\n",
       "      <td>1330.000000</td>\n",
       "      <td>-1.000000</td>\n",
       "      <td>14.000000</td>\n",
       "      <td>1343.000000</td>\n",
       "      <td>123.000000</td>\n",
       "      <td>650.000000</td>\n",
       "      <td>2.000000</td>\n",
       "      <td>0.000000</td>\n",
       "      <td>-90.258030</td>\n",
       "      <td>36.894610</td>\n",
       "    </tr>\n",
       "    <tr>\n",
       "      <th>75%</th>\n",
       "      <td>8.000000</td>\n",
       "      <td>9.000000</td>\n",
       "      <td>23.000000</td>\n",
       "      <td>6.000000</td>\n",
       "      <td>1917.000000</td>\n",
       "      <td>1740.000000</td>\n",
       "      <td>8.000000</td>\n",
       "      <td>19.000000</td>\n",
       "      <td>1754.000000</td>\n",
       "      <td>174.000000</td>\n",
       "      <td>1067.000000</td>\n",
       "      <td>3.000000</td>\n",
       "      <td>1.000000</td>\n",
       "      <td>-81.755170</td>\n",
       "      <td>40.788390</td>\n",
       "    </tr>\n",
       "    <tr>\n",
       "      <th>max</th>\n",
       "      <td>1557.000000</td>\n",
       "      <td>12.000000</td>\n",
       "      <td>31.000000</td>\n",
       "      <td>7.000000</td>\n",
       "      <td>2359.000000</td>\n",
       "      <td>2359.000000</td>\n",
       "      <td>1576.000000</td>\n",
       "      <td>225.000000</td>\n",
       "      <td>2359.000000</td>\n",
       "      <td>680.000000</td>\n",
       "      <td>4983.000000</td>\n",
       "      <td>3.000000</td>\n",
       "      <td>1.000000</td>\n",
       "      <td>-64.798560</td>\n",
       "      <td>71.285450</td>\n",
       "    </tr>\n",
       "  </tbody>\n",
       "</table>\n",
       "</div>"
      ],
      "text/plain": [
       "       ARRIVAL_DELAY          MONTH            DAY    DAY_OF_WEEK  \\\n",
       "count  157200.000000  157200.000000  157200.000000  157200.000000   \n",
       "mean        4.847118       6.225216      15.697977       3.914466   \n",
       "std        40.031976       3.378811       8.760989       1.989374   \n",
       "min       -70.000000       1.000000       1.000000       1.000000   \n",
       "25%       -13.000000       3.000000       8.000000       2.000000   \n",
       "50%        -5.000000       6.000000      16.000000       4.000000   \n",
       "75%         8.000000       9.000000      23.000000       6.000000   \n",
       "max      1557.000000      12.000000      31.000000       7.000000   \n",
       "\n",
       "       SCHEDULED_ARRIVAL  DEPARTURE_TIME  DEPARTURE_DELAY       TAXI_OUT  \\\n",
       "count      157200.000000   157200.000000    157200.000000  157200.000000   \n",
       "mean         1491.775999     1335.216826         9.699771      16.036571   \n",
       "std           508.628687      496.674295        37.715590       8.930382   \n",
       "min             1.000000        1.000000       -38.000000       1.000000   \n",
       "25%          1109.000000      920.000000        -5.000000      11.000000   \n",
       "50%          1519.000000     1330.000000        -1.000000      14.000000   \n",
       "75%          1917.000000     1740.000000         8.000000      19.000000   \n",
       "max          2359.000000     2359.000000      1576.000000     225.000000   \n",
       "\n",
       "          WHEELS_OFF  SCHEDULED_TIME       DISTANCE         Q_YEAR  \\\n",
       "count  157200.000000   157200.000000  157200.000000  157200.000000   \n",
       "mean     1357.141698      142.041177     825.443804       1.915413   \n",
       "std       498.271810       75.369468     608.218666       0.782550   \n",
       "min         1.000000       18.000000      31.000000       1.000000   \n",
       "25%       935.000000       86.000000     373.000000       1.000000   \n",
       "50%      1343.000000      123.000000     650.000000       2.000000   \n",
       "75%      1754.000000      174.000000    1067.000000       3.000000   \n",
       "max      2359.000000      680.000000    4983.000000       3.000000   \n",
       "\n",
       "             DELAYED    LONGITUDE_O     LATITUDE_O  \n",
       "count  157200.000000  157078.000000  157078.000000  \n",
       "mean        0.372010     -95.590451      36.602245  \n",
       "std         0.483343      18.149212       6.005002  \n",
       "min         0.000000    -176.646030      13.483450  \n",
       "25%         0.000000    -111.977770      32.895950  \n",
       "50%         0.000000     -90.258030      36.894610  \n",
       "75%         1.000000     -81.755170      40.788390  \n",
       "max         1.000000     -64.798560      71.285450  "
      ]
     },
     "execution_count": 66,
     "metadata": {},
     "output_type": "execute_result"
    }
   ],
   "source": [
    "flights['LONGITUDE_O'] = flights['ORIGIN_AIRPORT'].apply(lambda x: airports.loc[x]['LONGITUDE'])\n",
    "flights['LATITUDE_O'] = flights['ORIGIN_AIRPORT'].apply(lambda x: airports.loc[x]['LATITUDE'])\n",
    "\n",
    "flights.describe()\n"
   ]
  },
  {
   "cell_type": "code",
   "execution_count": 67,
   "metadata": {},
   "outputs": [
    {
     "name": "stdout",
     "output_type": "stream",
     "text": [
      "157078\n",
      "157200\n"
     ]
    }
   ],
   "source": [
    "# we observe some nans are generated and we remove them \n",
    "coso = flights[\"LONGITUDE_O\"].isna() == False\n",
    "count_true = sum(coso)\n",
    "print(count_true)\n",
    "print(len(flights[\"LONGITUDE_O\"]))\n",
    "\n",
    "flights = flights.dropna(how='any')\n"
   ]
  },
  {
   "cell_type": "code",
   "execution_count": 133,
   "metadata": {},
   "outputs": [],
   "source": [
    "flights['GR_O'] = ''\n",
    "flights.loc[(flights['LONGITUDE_O'] >= -100) & (flights['LATITUDE_O'] >= 37), 'GR_O'] = 'UPPER_RIGHT'\n",
    "flights.loc[(flights['LONGITUDE_O'] < -100) & (flights['LATITUDE_O'] >= 37), 'GR_O'] = 'UPPER_LEFT'\n",
    "flights.loc[(flights['LONGITUDE_O'] >= -100) & (flights['LATITUDE_O'] < 37), 'GR_O'] = 'BOTTOM_RIGHT'\n",
    "flights.loc[(flights['LONGITUDE_O'] < -100) & (flights['LATITUDE_O'] < 37), 'GR_O'] = 'BOTTOM_LEFT'\n"
   ]
  },
  {
   "cell_type": "code",
   "execution_count": 134,
   "metadata": {},
   "outputs": [
    {
     "data": {
      "text/plain": [
       "array(['UPPER_RIGHT', 'BOTTOM_LEFT', 'UPPER_LEFT', 'BOTTOM_RIGHT'],\n",
       "      dtype=object)"
      ]
     },
     "execution_count": 134,
     "metadata": {},
     "output_type": "execute_result"
    }
   ],
   "source": [
    "flights[\"GR_O\"].unique()"
   ]
  },
  {
   "cell_type": "code",
   "execution_count": null,
   "metadata": {},
   "outputs": [],
   "source": [
    "# adding longitude and latitude values for destination airport \n",
    "flights['LONGITUDE_D'] = 0.0\n",
    "flights['LATITUDE_D'] = 0.0\n",
    "\n",
    "for index,row in flights.iterrows():\n",
    "  a_act = flights.loc[index][\"DESTINATION_AIRPORT\"]\n",
    "  long = airports.loc[a_act][\"LONGITUDE\"]\n",
    "  lat = airports.loc[a_act][\"LATITUDE\"]\n",
    "  flights.loc[index,\"LONGITUDE_D\"] = long\n",
    "  flights.loc[index,\"LATITUDE_D\"] = lat \n",
    "  \n"
   ]
  },
  {
   "cell_type": "code",
   "execution_count": null,
   "metadata": {},
   "outputs": [],
   "source": [
    "flights['GR_D'] = ''\n",
    "flights.loc[(flights['LONGITUDE_D'] >= -100) & (flights['LATITUDE_D'] >= 37), 'GR_D'] = 'UPPER_RIGHT'\n",
    "flights.loc[(flights['LONGITUDE_D'] < -100) & (flights['LATITUDE_D'] >= 37), 'GR_D'] = 'UPPER_LEFT'\n",
    "flights.loc[(flights['LONGITUDE_D'] >= -100) & (flights['LATITUDE_D'] < 37), 'GR_D'] = 'BOTTOM_RIGHT'\n",
    "flights.loc[(flights['LONGITUDE_D'] < -100) & (flights['LATITUDE_D'] < 37), 'GR_D'] = 'BOTTOM_LEFT'"
   ]
  },
  {
   "cell_type": "code",
   "execution_count": null,
   "metadata": {},
   "outputs": [],
   "source": [
    "# we observe some nans are generated and we remove them \n",
    "coso = flights[\"LONGITUDE_D\"].isna() == False\n",
    "count_true = sum(coso)\n",
    "print(count_true)\n",
    "print(len(flights[\"LONGITUDE_D\"]))\n",
    "\n",
    "flights = flights.dropna(how='any')"
   ]
  },
  {
   "cell_type": "code",
   "execution_count": null,
   "metadata": {},
   "outputs": [],
   "source": [
    "flights[\"GR_D\"].unique()"
   ]
  },
  {
   "cell_type": "code",
   "execution_count": null,
   "metadata": {},
   "outputs": [],
   "source": [
    "import gmplot\n",
    "\n",
    "# Initialize the map with the first airport as the center point\n",
    "gmap = gmplot.GoogleMapPlotter(flights.iloc[0]['LATITUDE_O'], flights.iloc[0]['LONGITUDE_O'], zoom=3)\n",
    "\n",
    "# Define the color mapping for different values of GR_D\n",
    "color_map = {\n",
    "    'UPPER_RIGHT': 'red',\n",
    "    'UPPER_LEFT': 'green',\n",
    "    'BOTTOM_RIGHT': 'blue',\n",
    "    'BOTTOM_LEFT': 'purple'\n",
    "}\n",
    "\n",
    "# Plot each airport with its corresponding color\n",
    "for i, row in flights.iterrows():\n",
    "    color = color_map.get(row['GR_D'], 'gray')\n",
    "    gmap.marker(row['LATITUDE_O'], row['LONGITUDE_O'], color=color)\n",
    "\n",
    "# Draw the map and save it to an HTML file\n",
    "gmap.draw('airports_map.html')\n"
   ]
  },
  {
   "cell_type": "code",
   "execution_count": null,
   "metadata": {},
   "outputs": [],
   "source": [
    "\n",
    "# Define a function to classify the time segment based on the input time\n",
    "def classify_time(time):\n",
    "    sunrise = 600.0   # Define the time of sunrise as 6:00 am (in decimal format)\n",
    "    sunset = 1800.0   # Define the time of sunset as 6:00 pm (in decimal format)\n",
    "    \n",
    "    if time >= sunrise and time < sunset:\n",
    "        return 'Daytime'\n",
    "    else:\n",
    "        return 'Nighttime'\n",
    "    "
   ]
  },
  {
   "cell_type": "code",
   "execution_count": null,
   "metadata": {},
   "outputs": [],
   "source": [
    "# Change formatting of SCHEDULED_ARRIVAL and DEPARTURE_TIME\n",
    "flights['ArrivalDayNight'] = flights['SCHEDULED_ARRIVAL'].apply(classify_time)\n",
    "flights['DepartureDayNight'] = flights['DEPARTURE_TIME'].apply(classify_time)"
   ]
  },
  {
   "cell_type": "code",
   "execution_count": null,
   "metadata": {},
   "outputs": [],
   "source": [
    "flights.describe()\n",
    "flights.columns"
   ]
  },
  {
   "cell_type": "code",
   "execution_count": null,
   "metadata": {},
   "outputs": [],
   "source": [
    "flights = flights[['DELAYED','DEPARTURE_DELAY', 'TAXI_OUT', 'WHEELS_OFF', 'SCHEDULED_TIME',\n",
    "       'DISTANCE', 'Q_YEAR', 'FORTNIGHT', 'WEEK_INFO', 'AC', 'GR_O',\n",
    "       'GR_D', 'ArrivalDayNight', 'DepartureDayNight']]"
   ]
  },
  {
   "cell_type": "code",
   "execution_count": null,
   "metadata": {},
   "outputs": [],
   "source": [
    "flights.columns"
   ]
  },
  {
   "cell_type": "code",
   "execution_count": null,
   "metadata": {},
   "outputs": [],
   "source": [
    "# Declare which variables are categorical and which ones are continuous. \n",
    "\n",
    "continuous = ['DEPARTURE_DELAY', 'TAXI_OUT', 'WHEELS_OFF', 'SCHEDULED_TIME',\n",
    "       'DISTANCE']\n",
    "\n",
    "flights[continuous].hist()               "
   ]
  },
  {
   "cell_type": "code",
   "execution_count": null,
   "metadata": {},
   "outputs": [],
   "source": [
    "len(flights)"
   ]
  },
  {
   "cell_type": "code",
   "execution_count": null,
   "metadata": {},
   "outputs": [],
   "source": [
    "\n",
    "def remove_outliers_zscore(data_series, threshold=3):\n",
    "    \"\"\"\n",
    "    Remove outliers from a pandas Series using the Z-score method.\n",
    "    :param data_series: a pandas Series containing the data\n",
    "    :param threshold: the number of standard deviations from the mean at which to consider a data point an outlier\n",
    "    :return: a new pandas Series with the outliers removed\n",
    "    \"\"\"\n",
    "    z_scores = np.abs((data_series - data_series.mean()) / data_series.std())\n",
    "    return data_series[z_scores <= threshold]\n"
   ]
  },
  {
   "cell_type": "code",
   "execution_count": null,
   "metadata": {},
   "outputs": [],
   "source": [
    "# We observe that no outliers are removed. \n",
    "flights_cont = remove_outliers_zscore(flights[continuous])\n",
    "len(flights_cont)"
   ]
  },
  {
   "cell_type": "code",
   "execution_count": null,
   "metadata": {},
   "outputs": [],
   "source": [
    "# we normalize continuous variables\n",
    "from sklearn.preprocessing import QuantileTransformer\n",
    "\n",
    "# Initialize transformer with number of quantiles and output distribution\n",
    "transformer = QuantileTransformer(n_quantiles=100, output_distribution='normal')\n",
    "\n",
    "# Apply transformation to continuous columns\n",
    "for col in continuous:\n",
    "    flights[col] = transformer.fit_transform(flights[col].values.reshape(-1, 1))"
   ]
  },
  {
   "cell_type": "code",
   "execution_count": null,
   "metadata": {},
   "outputs": [],
   "source": [
    "flights[continuous].hist()"
   ]
  },
  {
   "cell_type": "code",
   "execution_count": null,
   "metadata": {},
   "outputs": [],
   "source": [
    "# one hot encoding for categorical variables\n",
    "categorical = ['Q_YEAR', 'FORTNIGHT', 'WEEK_INFO', 'AC', 'GR_O',\n",
    "       'GR_D', 'ArrivalDayNight', 'DepartureDayNight']\n",
    "\n",
    "flights= pd.get_dummies(flights, columns=categorical)"
   ]
  },
  {
   "cell_type": "code",
   "execution_count": null,
   "metadata": {},
   "outputs": [],
   "source": [
    "flights.columns"
   ]
  },
  {
   "cell_type": "code",
   "execution_count": null,
   "metadata": {},
   "outputs": [],
   "source": [
    "from sklearn.model_selection import train_test_split\n",
    "\n",
    "# Split data into features (X) and target variable (y)\n",
    "\n",
    "X = flights.drop('DELAYED', axis=1)\n",
    "y = flights['DELAYED']\n",
    "\n",
    "\n",
    "\n",
    "# Split data into training and testing sets\n",
    "X_train, X_test, y_train, y_test = train_test_split(X, y, test_size=0.2, random_state=42)\n",
    "\n"
   ]
  },
  {
   "cell_type": "code",
   "execution_count": null,
   "metadata": {
    "id": "GkrBH5jr6jDJ"
   },
   "outputs": [],
   "source": [
    "from sklearn.linear_model import LogisticRegression\n",
    "\n",
    "# Initialize the model\n",
    "logreg = LogisticRegression()\n",
    "\n",
    "# Fit the model to the training data\n",
    "logreg.fit(X_train, y_train)"
   ]
  },
  {
   "cell_type": "code",
   "execution_count": null,
   "metadata": {},
   "outputs": [],
   "source": [
    "# Make predictions on the testing set\n",
    "y_pred = logreg.predict(X_test)\n",
    "\n"
   ]
  },
  {
   "cell_type": "code",
   "execution_count": 105,
   "metadata": {},
   "outputs": [
    {
     "name": "stdout",
     "output_type": "stream",
     "text": [
      "Accuracy: 0.84\n"
     ]
    }
   ],
   "source": [
    "from sklearn.metrics import accuracy_score\n",
    "\n",
    "# Compute the accuracy of the model's predictions\n",
    "accuracy = accuracy_score(y_test, y_pred)\n",
    "print(f\"Accuracy: {accuracy:.2f}\")"
   ]
  }
 ],
 "metadata": {
  "colab": {
   "provenance": []
  },
  "kernelspec": {
   "display_name": "Python 3 (ipykernel)",
   "language": "python",
   "name": "python3"
  },
  "language_info": {
   "codemirror_mode": {
    "name": "ipython",
    "version": 3
   },
   "file_extension": ".py",
   "mimetype": "text/x-python",
   "name": "python",
   "nbconvert_exporter": "python",
   "pygments_lexer": "ipython3",
   "version": "3.8.16"
  }
 },
 "nbformat": 4,
 "nbformat_minor": 1
}
